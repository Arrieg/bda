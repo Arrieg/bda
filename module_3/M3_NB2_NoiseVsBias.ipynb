{
 "cells": [
  {
   "cell_type": "markdown",
   "metadata": {},
   "source": [
    "<div align=\"right\">Python 2.7 Jupyter Notebook</div>"
   ]
  },
  {
   "cell_type": "markdown",
   "metadata": {},
   "source": [
    "# Exploring Noise vs Bias"
   ]
  },
  {
   "cell_type": "markdown",
   "metadata": {},
   "source": [
    "### Your completion of the notebook exercises will be graded based on your ability to: \n",
    "\n",
    "> **Analyze**: Are you able to pick the relevant method, library or resolve specific stated questions?\n",
    "\n",
    "> **Evaluate**: Are you able to interpret the results and justify your interpretation based on the observed data?"
   ]
  },
  {
   "cell_type": "markdown",
   "metadata": {},
   "source": [
    "# Notebook introduction\n",
    "\n",
    "This notebook will compare noise and bias through a practical demonstration, as discussed by Arek Stopczynski in the video content. A dataset will be generated, and you will build on your understanding of how to create functions that can be reused. All examples demonstrated in the previous notebooks were created manually, or were based on external libraries and the functions contained therein. You will likely have specific patterns of execution that you typically repeat frequently that either do not exist, or are unknown to you. This can be done in the notebook itself or you can start to create libraries of functions that you refer to between projects or even between different individuals.\n",
    "\n",
    "In order to demonstrate the principles of noise and bias, a set of functions will be used to create random points on the supplied image. Following this, we will continue to demonstrate the difference between noise and bias.\n",
    "\n",
    "This notebook will make use of a new Python library which is called the Python Imaging Library (PIL). You can read more about this library at [pypi: PIL](https://pypi.python.org/pypi/PIL) or on the [PIL homepage](http://www.pythonware.com/products/pil/). It is first used in the first section of this notebook, and then again (in a brief deviation from the course content later in the notebook) to demonstrate how to manipulate images.\n",
    "\n",
    "> **Note to non-technical users**:\n",
    "\n",
    "> Non-technical users should read the “functions” section as a logical description of steps, and should not be concerned if the code and syntax does not make sense. The code is included to demonstrate the principles, and some of the advanced students will benefit from having the example code accessible. Read the comments that precede the function descriptions, ensure you understand the difference between noise and bias, and complete the exercises in the following section."
   ]
  },
  {
   "cell_type": "markdown",
   "metadata": {},
   "source": [
    "> **Note**: \n",
    "\n",
    "> It is strongly recommended that you save a checkpoint after applying significant changes or completing exercises. This allows you to return the notebook to a previous state should you wish to do so. On the Jupyter menu, select \"File\", then \"Save and Checkpoint\" from the dropdown menu that appears."
   ]
  },
  {
   "cell_type": "markdown",
   "metadata": {},
   "source": [
    "#### Load libraries and set options"
   ]
  },
  {
   "cell_type": "code",
   "execution_count": null,
   "metadata": {
    "collapsed": false
   },
   "outputs": [],
   "source": [
    "import matplotlib.pyplot as plt\n",
    "from matplotlib.pyplot import imshow\n",
    "from PIL import Image\n",
    "import random\n",
    "import copy\n",
    "import numpy as np\n",
    "import operator\n",
    "\n",
    "# Set plotting options.\n",
    "%matplotlib inline"
   ]
  },
  {
   "cell_type": "markdown",
   "metadata": {},
   "source": [
    "## 1. Create data points and plot them on the provided image\n",
    "In order to demonstrate the difference between noise and bias, a number of functions will be created.\n",
    "\n",
    "### 1.1 Create functions"
   ]
  },
  {
   "cell_type": "code",
   "execution_count": null,
   "metadata": {
    "collapsed": false
   },
   "outputs": [],
   "source": [
    "# Check if the point is inside a building based on the color of the point on the image.\n",
    "def is_point_inside_building(x, y, pix, im, s=5):\n",
    "    building_color = (244, 243, 236, 255)\n",
    "    \n",
    "    is_inside = False\n",
    "    \n",
    "    for v_x in range(max(x-s,0),min(x+s,im.size[0])):\n",
    "        for v_y in range(max(y-s,0),min(y+s,im.size[1])):\n",
    "            if pix[v_x, v_y] == building_color:\n",
    "                is_inside = True\n",
    "    return is_inside\n",
    "\n",
    "# Add the markers to the map.\n",
    "def put_points_on_map(points, pix, im, point_size=5):\n",
    "    for point in points:\n",
    "        put_point_on_map(point[0],point[1],point[2],pix,im)    \n",
    "\n",
    "# Set the color of the point based on whether the point is inside or outside the building. (Inside = Red, Outside = Blue)\n",
    "def put_point_on_map(x, y, is_inside, pix, im, point_size=5):\n",
    "    for v_x in range(max(x-point_size,0),min(x+point_size,im.size[0])):\n",
    "        for v_y in range(max(y-point_size,0),min(y+point_size,im.size[1])):\n",
    "            if is_inside: \n",
    "                pix[v_x,v_y] = (255, 0, 0)\n",
    "            else:\n",
    "                pix[v_x,v_y] = (0, 0, 255)\n",
    "                \n",
    "# Generate random points to be added to our image using the randint from the random library.\n",
    "# https://docs.python.org/2/library/random.html\n",
    "def generate_random_points(pix,im, n=200, threshold=0.5):\n",
    "    points = set()\n",
    "    n_inside = 0\n",
    "    \n",
    "    while len(points) < n:\n",
    "        x = random.randint(0,im.size[0])\n",
    "        y = random.randint(0,im.size[1])\n",
    "        is_inside = is_point_inside_building(x, y, pix, im)\n",
    "        \n",
    "        if len(points) > 0: \n",
    "            n_inside = len([v for v in points if v[2] == True])/float(len(points))\n",
    " \n",
    "        if n_inside < threshold and not is_inside: \n",
    "            continue               \n",
    "        #print is_inside\n",
    "        points.add((x,y,is_inside))\n",
    "        \n",
    "    return points\n",
    "\n",
    "# Calculate the time spent inside by using number of observations as a proxy for actual time.\n",
    "def calculate_time_inside(points):\n",
    "    return len([v for v in points if v[2] == True])/float(len(points))\n",
    "\n",
    "# Set plotting options and plot the diagram using Matplotlib.\n",
    "def plot_map(points, im, pix, s, point_size=5):\n",
    "    put_points_on_map(points, pix, im)\n",
    "    f = plt.figure()\n",
    "    plt.imshow(im)\n",
    "    plt.title(s)\n",
    "    f.set_size_inches(18.5, 10.5)\n",
    "\n",
    "# Create a new points list where we introduce random errors using shuffle from the random library.\n",
    "# https://docs.python.org/2/library/random.html\n",
    "def introduce_random_error(points, error=0.4):\n",
    "    points_list = list(points)\n",
    "    random.shuffle(points_list)\n",
    "    return set(points_list[:int(len(points_list)*error)])\n",
    "\n",
    "# Calculate the random error using the previously created function.\n",
    "def calculate_random_error(points, error=0.4, k=100):\n",
    "    xx = []\n",
    "    for i in range(k):\n",
    "        points_copy = copy.deepcopy(points)\n",
    "        points_copy = introduce_random_error(points_copy, error=error)\n",
    "        xx.append(calculate_time_inside(points_copy))\n",
    "    plot_results(xx, 'Histogram with random errors.')\n",
    "    return points_copy\n",
    "\n",
    "# Calculate bias using our previously created function.\n",
    "def calculate_bias(points, error=0.4, bias=0.7, k=100):\n",
    "    xx = []\n",
    "    for i in range(k):\n",
    "        points_copy = copy.deepcopy(points)\n",
    "        points_copy = introduce_bias(points_copy, error=error, bias=bias)\n",
    "        xx.append(calculate_time_inside(points_copy))\n",
    "    plot_results(xx, 'Histogram with bias.')\n",
    "    return points_copy\n",
    "\n",
    "# Produce plots using our previously created function. \n",
    "# We print the mean and standard deviation using Numpy functions.\n",
    "# http://docs.scipy.org/doc/numpy/reference/generated/numpy.mean.html\n",
    "# http://docs.scipy.org/doc/numpy/reference/generated/numpy.std.html  \n",
    "def plot_results(xx, s = 'Histogram'):\n",
    "    plt.figure()\n",
    "    plt.hist(xx)    \n",
    "    plt.axvline(np.mean(xx), color='r', linestyle='dashed', linewidth=2)\n",
    "    plt.title(s)\n",
    "    print 'mean = {}, std = {}.'.format(np.mean(xx), np.std(xx))\n",
    "    \n",
    "# Create a new points list where we introduce bias using choice and random from the random library.\n",
    "# https://docs.python.org/2/library/random.html\n",
    "def introduce_bias(points, error=0.4, bias=0.7):\n",
    "    new_points = copy.deepcopy(points)\n",
    "    while len(new_points) > int(len(points)*error):\n",
    "        point = random.choice([v for v in new_points])\n",
    "        is_inside = point[2]\n",
    "        if is_inside:\n",
    "            if random.random() < bias:\n",
    "                new_points.remove(point)\n",
    "        if not is_inside:\n",
    "            if random.random() > bias:\n",
    "                new_points.remove(point)\n",
    "        \n",
    "    return new_points"
   ]
  },
  {
   "cell_type": "markdown",
   "metadata": {},
   "source": [
    "### 1.2 Demonstration\n",
    "\n",
    "#### 1.2.1 Validate dataset\n",
    "The image objects and their properties are created before generating the random points. Before moving on, a manual review of the generated data is performed to validate that the time spent inside is as expected."
   ]
  },
  {
   "cell_type": "code",
   "execution_count": null,
   "metadata": {
    "collapsed": false
   },
   "outputs": [],
   "source": [
    "# Create image object and load properties to a variable using the image library from PIL.\n",
    "# Base image. \n",
    "im_org = Image.open(\"dtu_map.png\")\n",
    "pix_org = im_org.load()\n",
    "\n",
    "# Random error example.\n",
    "im_random_error = Image.open(\"dtu_map.png\")\n",
    "pix_random_error = im_random_error.load()\n",
    "\n",
    "# Bias example.\n",
    "im_bias = Image.open(\"dtu_map.png\")\n",
    "pix_bias = im_bias.load()\n",
    "\n",
    "## Generate random points.\n",
    "# The function that we created previously accepts the image, its properties, number of points and a threshold for points inside as parameters.\n",
    "points = generate_random_points(pix_org, im_org, n=500, threshold=0.6)\n",
    "\n",
    "## Calculate and print the time spent inside.\n",
    "print 'Proportion of time spent inside (based on number of observations): {}.'.format(calculate_time_inside(points))"
   ]
  },
  {
   "cell_type": "markdown",
   "metadata": {},
   "source": [
    "#### 1.2.2 Plot the map of observations, using one of the functions created earlier.\n",
    "In the plot below, red corresponds to inside locations, while blue corresponds to outside locations."
   ]
  },
  {
   "cell_type": "code",
   "execution_count": null,
   "metadata": {
    "collapsed": false,
    "scrolled": false
   },
   "outputs": [],
   "source": [
    "# Plot the generated dataset.\n",
    "plot_map(points, im_org, pix_org, 'Plot of generated random points on image.')"
   ]
  },
  {
   "cell_type": "markdown",
   "metadata": {},
   "source": [
    "#### 1.2.3 Noise or random errors\n",
    "In Video 2, Arek Stopczynski indicates that noise can be countered by collecting more data, as the average or mean is centered around the true value. This can be visualized using the functions created earlier. Histograms are convenient plotting mechanisms for demonstrating this behavior. The mean and standard deviation are also produced as outputs of our function, which allows us to plot a new map to show the updated resultset."
   ]
  },
  {
   "cell_type": "code",
   "execution_count": null,
   "metadata": {
    "collapsed": false
   },
   "outputs": [],
   "source": [
    "# Demonstrate random error.\n",
    "random_error_points = calculate_random_error(points, k=1000)\n",
    "plot_map(random_error_points, im_random_error, pix_random_error, 'Plot of generated random points with random errors on image.')"
   ]
  },
  {
   "cell_type": "markdown",
   "metadata": {},
   "source": [
    "#### 1.2.4 Bias or systematic errors\n",
    "When there are systematic errors (bias) present in your dataset, you will need to employ alternate methods to clean your data. Take note of the shift in the histogram where it is no longer centered around the mean. As per the previous example, the mean and standard deviation are produced, as well as the updated map."
   ]
  },
  {
   "cell_type": "code",
   "execution_count": null,
   "metadata": {
    "collapsed": false
   },
   "outputs": [],
   "source": [
    "# Demonstrate bias.\n",
    "bias_points = calculate_bias(points, k=1000, bias=0.6)\n",
    "plot_map(bias_points, im_bias, pix_bias, 'Plot of generated random points with bias on image.')"
   ]
  },
  {
   "cell_type": "markdown",
   "metadata": {
    "collapsed": true
   },
   "source": [
    "<br>\n",
    "<div class=\"alert alert-info\">\n",
    "<b>Exercise 1 Start.</b>\n",
    "</div>\n",
    "\n",
    "### Instructions\n",
    "> Assume that the \"outside\" data points in the previous example are accurate. How would you go about cleaning the \"bias_points\" if this were the only dataset you had?\n",
    "\n",
    "> **Hint**: \n",
    "\n",
    "> Your answer can be a written, logical answer and you do not need to perform any calculations for grading purposes.\n",
    "\n"
   ]
  },
  {
   "cell_type": "markdown",
   "metadata": {
    "collapsed": true
   },
   "source": [
    "Your markdown answer."
   ]
  },
  {
   "cell_type": "markdown",
   "metadata": {},
   "source": [
    "<br>\n",
    "<div class=\"alert alert-info\">\n",
    "<b>Exercise 1 End.</b>\n",
    "</div>\n",
    "\n",
    "> **Exercise complete**:\n",
    "    \n",
    "> This is a good time to \"Save and Checkpoint\"."
   ]
  },
  {
   "cell_type": "markdown",
   "metadata": {},
   "source": [
    "<br>\n",
    "<div class=\"alert alert-info\">\n",
    "<b>Exercise 2 [Advanced] Start.</b>\n",
    "</div>\n",
    "\n",
    "### Instructions\n",
    "> Plot what happens with estimated value (mean + shaded std) when you increase the number of datapoints in:\n",
    "\n",
    "> 1. noisy data, and \n",
    "\n",
    "> 2. biased data. \n",
    "\n",
    "> **Note**:\n",
    "\n",
    "> This activity is for advanced users only and extra credit will be allocated. Standard users will not be penalized for not completing this activity."
   ]
  },
  {
   "cell_type": "code",
   "execution_count": null,
   "metadata": {
    "collapsed": true
   },
   "outputs": [],
   "source": [
    "# Repeat section 1.2.3 with your changes here."
   ]
  },
  {
   "cell_type": "markdown",
   "metadata": {},
   "source": [
    "Your markdown notes on changes applied to section 1.2.3 and interpretation of results here."
   ]
  },
  {
   "cell_type": "code",
   "execution_count": null,
   "metadata": {
    "collapsed": true
   },
   "outputs": [],
   "source": [
    "# Repeat section 1.2.4 with your changes here."
   ]
  },
  {
   "cell_type": "markdown",
   "metadata": {},
   "source": [
    "Your markdown notes on changes applied to section 1.2.4 and interpretation of results here."
   ]
  },
  {
   "cell_type": "markdown",
   "metadata": {},
   "source": [
    "<br>\n",
    "<div class=\"alert alert-info\">\n",
    "<b>Exercise 2 End.</b>\n",
    "</div>\n",
    "\n",
    "> **Exercise complete**:\n",
    "    \n",
    "> This is a good time to \"Save and Checkpoint\"."
   ]
  },
  {
   "cell_type": "markdown",
   "metadata": {},
   "source": [
    "## 2. Bonus: Introduction to PIL\n",
    "While you will not spend much time on this library in this course, this section of the notebook serves as a brief introduction to the Python Imaging Library, as it was utilized in the previous section. Many of you may not be aware of the wide range of potential uses of Python, and the options that exist. In the previous example an image was used as an input file. Points were then classified as inside or outside, based on the pixel color of the randomly generated points on the image.\n",
    "\n",
    "You can obtain similar images from [Google maps](https://www.google.co.za/maps/place/Dansk+Fundamental+Metrologi+A%2FS/@55.7839786,12.5174761,18.5z/data=!4m5!3m4!1s0x46524e7d0398546f:0xcc373daed6ed3e95!8m2!3d55.7846082!4d12.5183756?hl=en) and perform some basic data exploration and wrangling functions. You will need to update the colors used in the functions to reflect those present in your image. It is therefore advised that you select a basic image with few color variations.\n",
    "\n",
    "In the previous example it was assumed that everyone was outside, and the status was updated if the color matched a building. This is much easier than trying to account for all the possible variations in color that you may come across."
   ]
  },
  {
   "cell_type": "markdown",
   "metadata": {},
   "source": [
    "> **Note**:\n",
    "\n",
    "> The simplistic approach applied in this trivial example **does not scale and should not be used for image processing**. Image processing is outside the scope of this course and requires different tools and infrastructure configurations than that provisioned for this course. Attempts to perform non-trivial operations on your virtual analysis environment may result in depletion of resources required to complete this course and should be avoided."
   ]
  },
  {
   "cell_type": "markdown",
   "metadata": {},
   "source": [
    "In the following example Python tools and libraries are used to wrangle the data. This example therefore starts with the question of which colors are present in the image.\n",
    "1. Create a dictionary of colors.\n",
    "2. Create a sorted list in order to find the most prevalent color.\n",
    "3. Change the image, where one color is substituted for another.\n",
    "\n",
    "While this example is by no means extensive in demonstrating the capabilities of either Python or the PIL library, it’s aim is to emphasize that input data does not always have to be traditional data files."
   ]
  },
  {
   "cell_type": "markdown",
   "metadata": {},
   "source": [
    "#### 2.1 Load the image again\n",
    "Start by importing the same image used previously, and display some basic information about the image."
   ]
  },
  {
   "cell_type": "code",
   "execution_count": null,
   "metadata": {
    "collapsed": false
   },
   "outputs": [],
   "source": [
    "im = Image.open(\"dtu_map.png\")\n",
    "print im.format, im.size, im.mode"
   ]
  },
  {
   "cell_type": "markdown",
   "metadata": {},
   "source": [
    "#### 2.2 Create a list of colors present in the image\n",
    "Create a sorted list and display the five RGBA colors observed most frequently in reversed, sorted order."
   ]
  },
  {
   "cell_type": "code",
   "execution_count": null,
   "metadata": {
    "collapsed": false
   },
   "outputs": [],
   "source": [
    "# Create color dictionary.\n",
    "colors = {}\n",
    "for color in im.getdata():\n",
    "    colors[color] = colors.get(color, 0) + 1\n",
    "\n",
    "# Create sorted list.\n",
    "sorted_c = sorted(colors.items(), key=operator.itemgetter(1), reverse=True)\n",
    "\n",
    "# Display the first 5 records of the list.\n",
    "sorted_c[:5]    "
   ]
  },
  {
   "cell_type": "markdown",
   "metadata": {},
   "source": [
    "#### 2.3 Substitute one color for another and display the updated image.\n",
    "Replace the color used to identify buildings, RGBA color (244, 243, 236, 255), in the previous example, with another, (50, 50, 255, 255). You can search for RGBA color codes and replace the second, (50, 50, 255, 255), with a color or your choice should you wish to do so."
   ]
  },
  {
   "cell_type": "code",
   "execution_count": null,
   "metadata": {
    "collapsed": false
   },
   "outputs": [],
   "source": [
    "# Obtain pixel data and replace a specific color in the image with another.\n",
    "pixdata = im.load()\n",
    "\n",
    "# Change the building color\n",
    "for y in xrange(im.size[1]):\n",
    "    for x in xrange(im.size[0]):\n",
    "        if pixdata[x, y] == (244, 243, 236, 255):    # check for current building color\n",
    "            pixdata[x, y] = (50, 50, 255, 255)       # replace with new color\n",
    "\n",
    "# The lines below have been commented out as we include this image in course material. \n",
    "#   Advanced students can uncomment the relevant portions to save and display their images with alternative colors.\n",
    "\n",
    "# Save the updated image.\n",
    "# im.save('updated_file.png')\n",
    "\n",
    "# Show the updated image.\n",
    "# im.show()"
   ]
  },
  {
   "cell_type": "markdown",
   "metadata": {},
   "source": [
    "Let's take a look at our updated image:\n",
    "\n",
    "![Updated image](updated_file.png \"Image with the building color changed to blue.\")"
   ]
  },
  {
   "cell_type": "markdown",
   "metadata": {},
   "source": [
    "> **Exercise complete**:\n",
    "    \n",
    "> This is a good time to \"Save and Checkpoint\"."
   ]
  },
  {
   "cell_type": "markdown",
   "metadata": {},
   "source": [
    "## 3. Submit your notebook\n",
    "\n",
    "Please make sure that you:\n",
    "- Perform a final \"Save and Checkpoint\";\n",
    "- Download a copy of the notebook in \".ipynb\" format to your local machine using \"File\", \"Download as\" and \"IPython Notebook (.ipynb)\";\n",
    "- Submit a copy of this file to the online campus."
   ]
  },
  {
   "cell_type": "code",
   "execution_count": null,
   "metadata": {
    "collapsed": true
   },
   "outputs": [],
   "source": []
  }
 ],
 "metadata": {
  "kernelspec": {
   "display_name": "Python 2",
   "language": "python",
   "name": "python2"
  },
  "language_info": {
   "codemirror_mode": {
    "name": "ipython",
    "version": 2
   },
   "file_extension": ".py",
   "mimetype": "text/x-python",
   "name": "python",
   "nbconvert_exporter": "python",
   "pygments_lexer": "ipython2",
   "version": "2.7.11"
  }
 },
 "nbformat": 4,
 "nbformat_minor": 0
}
