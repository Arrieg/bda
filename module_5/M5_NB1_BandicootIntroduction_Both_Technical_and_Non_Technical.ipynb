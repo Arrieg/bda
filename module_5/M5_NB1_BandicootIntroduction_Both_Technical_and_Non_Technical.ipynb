{
 "cells": [
  {
   "cell_type": "markdown",
   "metadata": {},
   "source": [
    "<div align=\"right\">Python 2.7 Jupyter Notebook</div>\n",
    "# Bandicoot introduction\n",
    "\n",
    "<div class=\"alert alert-warning\">\n",
    "<b>This notebook should be opened and completed by students completing both the technical and non-technical tracks of this course.</b><br>As a reminder, notebook 2 have different versions for the non-technical and technical tracks. Students should open and complete the relevant notebooks based on their choice of technical or non-technical tracks. To avoid any confusion:\n",
    "\n",
    "<br><br><b>Non-technical track notebook</b>: \n",
    "<li>M5_NB2_BandicootMachineLearning_Non_Technical\n",
    "\n",
    "<br><br><b>Technical track notebook</b>:\n",
    "<li>M5_NB2_BandicootMachineLearning_Technical\n",
    "\n",
    "</div>\n",
    "\n",
    "### Your completion of the notebook exercises will be graded based on your ability to: \n",
    "\n",
    "> **Understand**: Does your pseudo-code and/or comments show evidence that you recall and understand technical concepts?\n",
    "\n",
    "> **Apply**: Are you able to execute code, using the supplied examples, that perform the required functionality on supplied or generated data sets? \n",
    "\n",
    "> **Evaluate**: Are you able to interpret the results and justify your interpretation based on the observed data?\n",
    "\n",
    "\n",
    "# Notebook introduction\n",
    "\n",
    "The course started by introducing you to tools and techniques that can be applied in analysing data. The technical content. This notebook will briefly revisit the Friends and Family dataset for context before demonstrating the generation of summary statistics manually and by using bandicoot. Subsequent sections briefly demonstrate bandicoot's visualization capabilities, how to use bandicoot in combination with network and graph content introduced in Module 4 as well as error handling and loading files from a directory. The content of this notebook demonstrates the steps in isolation and will will move to an end-to-end example in notebook 2 of Module 5.\n",
    "\n",
    "> **Note**: \n",
    "\n",
    "> It is strongly recommended that you save a checkpoint after applying significant changes or completing exercises. This allows you to return the notebook to a previous state should you wish to do so. On the Jupyter menu, select \"File\", then \"Save and Checkpoint\" from the dropdown menu that appears.\n",
    "\n",
    "#### Load libraries"
   ]
  },
  {
   "cell_type": "code",
   "execution_count": null,
   "metadata": {
    "collapsed": false
   },
   "outputs": [],
   "source": [
    "import os\n",
    "import pandas as pd\n",
    "import bandicoot as bc\n",
    "import numpy as np\n",
    "import matplotlib"
   ]
  },
  {
   "cell_type": "markdown",
   "metadata": {},
   "source": [
    "# 1. Dataset review\n",
    "Some of the relevant information pertaining to the Friends and Family dataset is repeated here as we will focus on the content of the data during this week's activities.\n",
    "\n",
    "> An experiment was designed in 2011 to study (a) how people make decisions, with emphasis on the social aspects involved, and (b) how we can empower people to make better decisions using personal and social tools. The data set was collected by Nadav Aharony, Wei Pan, Cory Ip, Inas Khayal, and Alex Pentland. More details about this data set are available [here.] (http://realitycommons.media.mit.edu/friendsdataset.html)\n",
    "\n",
    "> The subjects are members of a young-family residential living community adjacent to a major research university in North America. All members of the community are couples, and at least one of the members is affiliated with the university. The community is composed of over 400 residents, approximately half of whom have children. A pilot phase of 55 participants was launched in March 2010. In September 2010, phase two of the study included 130 participants - approximately 64 families. Participants were selected out of approximately 200 applicants in a way that would achieve a representative sample of the community and sub-communities (Aharony et al. 2011).\n",
    "\n",
    "In this module we prepare and analyse the data in a social context using tools and methods introduced in previous modules.\n",
    "\n",
    "# 2. Calculating summary statistics\n",
    "## 2.1 Manual calculation of average weekly call duration\n",
    "In order to better understand the process of creating features (referred to as behavioral indicators in bandicoot), you will start by manually creating a feature. Creating features is a tedious process, and using libraries such as bandicoot can significantly reduce the time required to generate features that you would use as input in machine learning algorithms. It is important for you to both understand the process and ensure that the results produced by the libraries are as expected. In other words, you need to make sure that you use the correct function from the library to produce the expected results.\n",
    "\n",
    "Start by manually computing the average weekly call duration for a specific user based on the interaction log file. This function has been demonstrated in earlier notebooks as it is extremely useful when you need to get a quick view of a dataset without loading it. Should the contents prove useful, you can load it as a dataframe."
   ]
  },
  {
   "cell_type": "code",
   "execution_count": null,
   "metadata": {
    "collapsed": false
   },
   "outputs": [],
   "source": [
    "# Retrieve the first three rows from the \"clean_records\" dataset.\n",
    "!head -n 3 ../data/bandicoot/clean_records/fa10-01-08.csv"
   ]
  },
  {
   "cell_type": "markdown",
   "metadata": {},
   "source": [
    "Note that the three lines displayed contains a header row, as well as the first two data rows.\n",
    "\n",
    "Next, load the dataset using pandas read_csv, and set the index. This example will only focus on calls, and you will create a separate object with an applied filter for calls."
   ]
  },
  {
   "cell_type": "code",
   "execution_count": null,
   "metadata": {
    "collapsed": false
   },
   "outputs": [],
   "source": [
    "# Specify the user for review.\n",
    "user_id = 'sp10-01-08'\n",
    "\n",
    "# Load the dataset and set the index.\n",
    "interactions = pd.read_csv('../data/bandicoot/clean_records/' + user_id + '.csv')\n",
    "interactions.set_index(pd.DatetimeIndex(interactions['datetime']), inplace=True)\n",
    "\n",
    "# Extract the calls. \n",
    "calls = interactions[interactions.interaction == 'call'].copy()\n",
    "\n",
    "# Display the head of the new calls dataframe.\n",
    "calls.head(3)"
   ]
  },
  {
   "cell_type": "markdown",
   "metadata": {},
   "source": [
    "Observe two types of correspondent_id's in the record set. 'fa10-01-04' is in the expected format, and indicates that the party interacted with someone else within the study. The second type is an alphanumeric string which indicates that the user interacted with a party that did not form part of the study. You will require the correspondent_id for the ego network analysis that will be demonstrated in this notebook, and will therefore remove all the records where the correspondent_id is not that of a known member of the study."
   ]
  },
  {
   "cell_type": "code",
   "execution_count": null,
   "metadata": {
    "collapsed": true
   },
   "outputs": [],
   "source": [
    "calls.dropna(inplace=True)"
   ]
  },
  {
   "cell_type": "markdown",
   "metadata": {},
   "source": [
    "Performing the calculation is a two-step process:\n",
    "1. Derive the week of the interaction.\n",
    "2. Use the pandas \"pd.group_by\" method demonstrated in Module 2 to add the records to bins."
   ]
  },
  {
   "cell_type": "code",
   "execution_count": null,
   "metadata": {
    "collapsed": false
   },
   "outputs": [],
   "source": [
    "# Derive the week number for the observation.\n",
    "calls['week'] = calls.index.map(lambda observation_timestamp: observation_timestamp.week)\n",
    "\n",
    "# Group by weeks.\n",
    "week_groups = calls.groupby('week')\n",
    "\n",
    "# Initialize the intermediate dataframe.\n",
    "weekly_averages = pd.DataFrame(columns=['week', 'mean_duration', 'std_dev'])\n",
    "weekly_averages.set_index('week', inplace=True)\n",
    "\n",
    "# Populate the new dataframe using pandas \"mean\" and numpy \"std\" methods.\n",
    "for week, week_calls in week_groups:\n",
    "    week_mean = np.mean(week_calls.call_duration)\n",
    "    week_std  = np.std(week_calls.call_duration)\n",
    "    weekly_averages.loc[week] = [week_mean, week_std]\n",
    "\n",
    "# Display the head of the new dataframe.\n",
    "weekly_averages.head(3)"
   ]
  },
  {
   "cell_type": "code",
   "execution_count": null,
   "metadata": {
    "collapsed": false
   },
   "outputs": [],
   "source": [
    "# Retrieve the bins (weeks).\n",
    "list(weekly_averages.index)"
   ]
  },
  {
   "cell_type": "markdown",
   "metadata": {},
   "source": [
    "Now that you have the weekly averages and standard deviation of the call duration, you can compute the mean weekly call duration and mean weekly call duration standard deviation."
   ]
  },
  {
   "cell_type": "code",
   "execution_count": null,
   "metadata": {
    "collapsed": false
   },
   "outputs": [],
   "source": [
    "print (\"Average weekly call duration for the user is {:.5f},\\nwhile average weekly standard deviation is {:.5f}. \"\n",
    "       .format(weekly_averages.mean_duration.mean(), weekly_averages.std_dev.mean()))"
   ]
  },
  {
   "cell_type": "markdown",
   "metadata": {},
   "source": [
    "While it is possible to use generic data analysis libraries (such as Pandas describe) introduced to you in earlier modules, in the next section you will return to a library briefly introduced to you in Module 2 of this course, bandicoot.\n",
    "\n",
    "- `weekly_averages.describe()`\n",
    "- `week_groups.describe()`"
   ]
  },
  {
   "cell_type": "markdown",
   "metadata": {
    "collapsed": true
   },
   "source": [
    "## 2.2 Using Bandicoot\n",
    "[Bandicoot](http://bandicoot.mit.edu/docs/index.html) is an open-source python toolbox used to analyze mobile phone metadata. You can perform actions similar to your manual steps with a single command using this library. \n",
    "\n",
    "Manual analysis of datasets can be an extremely tedious and resource-intensive process. Although it is outside of the scope of this course, it is important to start considering memory utilization, reproducibility of results, and reuse of intermediate steps when working with large datasets. Toolboxes such as Bandicoot are both optimized for improved performance and specific to mobile phone metadata analysis, meaning that the functions available are specific to the type of data to be analyzed.\n",
    "\n",
    "Please review the [reference manual](http://bandicoot.mit.edu/docs/reference/index.html) for details on functions, modules, and objects included in Bandicoot. Bandicoot has been preinstalled on your virtual analysis environment. Revisit the [quick guide](http://bandicoot.mit.edu/docs/quickstart.html) should you wish to set up this library in another environment.\n",
    "\n",
    "The following example starts by loading a dataset that is formatted in Bandicoot’s expected input format in order to redo our calculation. It then goes on to demonstrate additional examples of data manipulation for the same user."
   ]
  },
  {
   "cell_type": "markdown",
   "metadata": {},
   "source": [
    "#### Load the data.\n",
    "As mentioned above, this example will start with using the bandicoot function to load the input file. Note that the import function expects data in a specific format, and it provides additional information that allows you to better understand your dataset."
   ]
  },
  {
   "cell_type": "code",
   "execution_count": null,
   "metadata": {
    "collapsed": false
   },
   "outputs": [],
   "source": [
    "B = bc.read_csv(user_id, '../data/bandicoot/clean_records/', '../data/bandicoot/antennas.csv')"
   ]
  },
  {
   "cell_type": "markdown",
   "metadata": {},
   "source": [
    "> **Note**:\n",
    "\n",
    "> `WARNING:root:100.00% of the records are missing a location.` \n",
    "\n",
    "> This message indicates that our dataset does not include any antenna id's. This column was removed from the dataframe in order to preserve user privacy. A [research study](http://www.nature.com/articles/srep01376/) indicated that knowing 4 points (approximate places and times of an individual) was shown to be enough to re-identify the individual in an anonymized dataset in 95% of the cases.\n"
   ]
  },
  {
   "cell_type": "markdown",
   "metadata": {},
   "source": [
    "### 2.2.1 Compute the weekly average call duration\n",
    "In Bandicoot you can achieve the same result demonstrated earlier with a single method call named [call_duration](http://bandicoot.mit.edu/docs/reference/generated/bandicoot.individual.call_duration.html)."
   ]
  },
  {
   "cell_type": "code",
   "execution_count": null,
   "metadata": {
    "collapsed": false
   },
   "outputs": [],
   "source": [
    "# Calculate the call_duration summary statistics using Bandicoot.\n",
    "bc.individual.call_duration(B)"
   ]
  },
  {
   "cell_type": "markdown",
   "metadata": {},
   "source": [
    "You can see that the above results are in line with the manual calculation (which was rounded to 5 decimals) that you performed earlier.\n",
    "\n",
    "Bandicoot computes indicators on a weekly basis by default, and returns the average (mean) over all of the weeks available and the standard deviation (std) in a nested dictionary. You can read more about the creation of indicators [here](http://bandicoot.mit.edu/docs/quickstart.html#computing-indicators).\n",
    "\n",
    "The screenshot below demonstrates the format of the output produced.\n",
    "![Screenshot of bandicoot weekly patterns for call duration](bandicoot-training-master/mini-mockups-02.png \"Screenshot of bandicoot weekly patterns for call duration.\")"
   ]
  },
  {
   "cell_type": "markdown",
   "metadata": {},
   "source": [
    "To change the default behavior and review the daily resolution, you can use \"groupby\" in Bandicoot as a method call argument. Other grouping parameters include \"month\", \"year\" and None."
   ]
  },
  {
   "cell_type": "code",
   "execution_count": null,
   "metadata": {
    "collapsed": false
   },
   "outputs": [],
   "source": [
    "bc.individual.call_duration(B, groupby='day', interaction='call')"
   ]
  },
  {
   "cell_type": "markdown",
   "metadata": {},
   "source": [
    "> **Note**:\n",
    "    \n",
    "> You will notice that you can switch between groupings by day, week or month with ease. This is one of the advantages referred to earlier. In cases where you manually analyse the data, you would have had to create these features manually, or would have had to utilize much more resource-intensive parsing functions in order to achieve similar results. You can choose to include all options or change to a new grouping with minimal changes required from your side and no additional functions to be created."
   ]
  },
  {
   "cell_type": "markdown",
   "metadata": {},
   "source": [
    "<br>\n",
    "<div class=\"alert alert-info\">\n",
    "<b>Exercise 1 Start.</b>\n",
    "</div>\n",
    "\n",
    "### Instructions\n",
    "\n",
    "> 1) Can you compute the average number of call contacts for the dataset, B, grouped by month?\n",
    "\n",
    "> You can review the help file for the [number_of_contacts](http://bandicoot.mit.edu/docs/reference/generated/bandicoot.individual.number_of_contacts.html#bandicoot.individual.number_of_contacts) function to get started."
   ]
  },
  {
   "cell_type": "code",
   "execution_count": null,
   "metadata": {
    "collapsed": false
   },
   "outputs": [],
   "source": [
    "# Your code here."
   ]
  },
  {
   "cell_type": "markdown",
   "metadata": {},
   "source": [
    "<br>\n",
    "<div class=\"alert alert-info\">\n",
    "<b>Exercise 1 End.</b>\n",
    "</div>\n",
    "\n",
    "> **Exercise complete**:\n",
    "    \n",
    "> This is a good time to \"Save and Checkpoint\"."
   ]
  },
  {
   "cell_type": "markdown",
   "metadata": {},
   "source": [
    "### 2.2.2 Splitting records\n",
    "Regardless of grouping scale, it is often useful to stratify the data between weekday and weekend, or day and night. Bandicoot allows you to achieve this with its boolean split arguments, i.e. split_week and split_day. You can read more about Bandicoot’s [number_of_interactions](http://bandicoot.mit.edu/docs/reference/generated/bandicoot.individual.number_of_interactions.html), and execute the code below to view the data on the daily number of interactions stratified with split_week. \n",
    "\n",
    "> **Note**: \n",
    "\n",
    "> This strategy is employed to generate features to be processed by machine learning algorithms where the algorithms can identify behavior which is not visible at small scale. In 2015, one such [study](https://docs.google.com/presentation/d/1gdPju5QW1bsjnZuTdqZEhCP-SbyJ1J8JleXaqkD8s2c/edit?usp=sharing) titled \"Predicting Gender from Mobile Phone Metadata\" presented at the Netmob Conference, Cambridge, showed that the most predictive feature for men in a South Asian country is the \"percent of calls initiated by the person during weekend nights\" while the most predictive feature in the European Union is \"the maximum text response delay during the week\" (Jahani et al. 2015).\n",
    "\n",
    "> ![Features by region](Gender_features.png \"Important features by region\")\n"
   ]
  },
  {
   "cell_type": "code",
   "execution_count": null,
   "metadata": {
    "collapsed": false
   },
   "outputs": [],
   "source": [
    "# Use bandicoot to split the records by day.\n",
    "bc.individual.number_of_interactions(B, groupby='day', split_day=True, interaction='call')"
   ]
  },
  {
   "cell_type": "code",
   "execution_count": null,
   "metadata": {
    "collapsed": false
   },
   "outputs": [],
   "source": [
    "# Plot the results.\n",
    "%matplotlib inline\n",
    "\n",
    "interactions_splitByDay = bc.individual.number_of_interactions(B, groupby='day', split_day=True, interaction='call')\n",
    "\n",
    "interactions_split = []\n",
    "for period, values in interactions_splitByDay['allweek'].items():\n",
    "    interactions_split.append([period, values['call']['mean'], values['call']['std']])\n",
    "\n",
    "interactions_split = pd.DataFrame(interactions_split,columns=['period', 'mean','std'])    \n",
    "_ = interactions_split.plot(kind='bar' , x='period', title='Daily vs nightly interactions')"
   ]
  },
  {
   "cell_type": "markdown",
   "metadata": {},
   "source": [
    "Split_day is now introduced as well to view all available strata."
   ]
  },
  {
   "cell_type": "code",
   "execution_count": null,
   "metadata": {
    "collapsed": false,
    "scrolled": true
   },
   "outputs": [],
   "source": [
    "bc.individual.number_of_interactions(B, groupby='day', split_week=True, split_day=True, interaction='call')"
   ]
  },
  {
   "cell_type": "markdown",
   "metadata": {},
   "source": [
    "> **Note**:\n",
    "\n",
    "> The output is as expected. The number of interactions is higher for “day” compared to “night”, as well as for “weekday” compared to “weekend”."
   ]
  },
  {
   "cell_type": "markdown",
   "metadata": {},
   "source": [
    "### 2.2.3 Other indicators\n",
    "Machine learning algorithms utilize features for prediction and clustering tasks. The difficulty arises in manually generating these features, however, using libraries to generate them on your behalf can significantly speed up and standardize the process.\n",
    "\n",
    "Two additional features will be demonstrated here. You can refer to the bandicoot reference material for further additional available features.\n",
    "\n",
    "#### Active days (days with at least one interaction)"
   ]
  },
  {
   "cell_type": "code",
   "execution_count": null,
   "metadata": {
    "collapsed": false
   },
   "outputs": [],
   "source": [
    "# Active days.\n",
    "bc.individual.active_days(B)"
   ]
  },
  {
   "cell_type": "markdown",
   "metadata": {},
   "source": [
    "> **Note**: \n",
    "\n",
    "> Remember that Bandicoot defaults to grouping by week if the grouping is not explicitly specified."
   ]
  },
  {
   "cell_type": "markdown",
   "metadata": {},
   "source": [
    "#### Number of contacts\n",
    "This number can be interesting, as some research suggests that it is predictable for humans and in the long run it is almost constant for any individual. Please review the articles below for additional information.\n",
    "- [Your Brain Limits You to Just Five BFFs](https://www.technologyreview.com/s/601369/your-brain-limits-you-to-just-five-bffs/)\n",
    "- [Limited communication capacity unveils strategies for human interaction](http://www.nature.com/articles/srep01950)"
   ]
  },
  {
   "cell_type": "code",
   "execution_count": null,
   "metadata": {
    "collapsed": false
   },
   "outputs": [],
   "source": [
    "# Number of contacts. \n",
    "bc.individual.number_of_contacts(B, split_week=True)"
   ]
  },
  {
   "cell_type": "markdown",
   "metadata": {},
   "source": [
    "> **Note**:\n",
    "\n",
    "> It looks like there might be a difference between the number of people contacted by phone between the weekend and weekdays.\n",
    "\n",
    "#### All available features\n",
    "Bandicoot currently contains 1442 features. You can obtain a quick overview of the features for this dataset using the bandicoot [utils.all](http://bandicoot.mit.edu/docs/reference/generated/bandicoot.utils.all.html#bandicoot.utils.all) function. The three categories of indicators are individual, spatial, and network-related features."
   ]
  },
  {
   "cell_type": "code",
   "execution_count": null,
   "metadata": {
    "collapsed": false
   },
   "outputs": [],
   "source": [
    "bc.utils.all(B)"
   ]
  },
  {
   "cell_type": "markdown",
   "metadata": {},
   "source": [
    "> **Note**:\n",
    "\n",
    "> Great, just \"The reporting variables allows you to better understand the nature and origin of the data as well as which computations have been performed (which version of the code etc). In earlier modules we started to perform some manual checks on data quality. Experience will teach you that this step always takes longer than anticipated and requires significant effort to determine the relevant questions and to execute them. Using a standardized library such as bandicoot saves both time in analyzing datasets and spotting issues, and makes the actions repeatable or comparable with other datasets or analyses."
   ]
  },
  {
   "cell_type": "markdown",
   "metadata": {},
   "source": [
    "# 3. Visualization with Bandicoot\n",
    "\n",
    "The visualization demonstrated in Module 2 will be repeated now that you have more background information on the toolbox and its capabilities. As Yves-Alexandre de Montjoye mentioned in the video content, visualization is a powerful tool, not just for communicating your final results, but also in terms of checking the validity of your data, to identify errors and outliers, as well as in identifying useful patterns visually that hides in aggregated datasets."
   ]
  },
  {
   "cell_type": "code",
   "execution_count": null,
   "metadata": {
    "collapsed": false
   },
   "outputs": [],
   "source": [
    "# Import the relevant libraries.\n",
    "import os\n",
    "from IPython.display import IFrame\n",
    "\n",
    "# Set the path to store the visualization.\n",
    "viz_path = os.path.dirname(os.path.realpath(__name__)) + '/viz'\n",
    "\n",
    "# Create the visualization.\n",
    "bc.visualization.export(B, viz_path)\n",
    "\n",
    "# Display the visualization in a frame within this notebook.\n",
    "IFrame(\"./viz/index.html\", \"100%\", 700)"
   ]
  },
  {
   "cell_type": "markdown",
   "metadata": {},
   "source": [
    "> **Note**:\n",
    "\n",
    "> We use \"IFrame\" to serve the results in the notebook. You can also serve the results as web page using bandicoot provided tools. This function is not demonstrated in this class as the required ports have not been opened on the AWS virtual analysis environment.\n",
    "\n",
    "> You can review the [quickstart guide](http://bandicoot.mit.edu/docs/quickstart.html#visualizing-a-user) for more detail on the \"bc.visualization.run(U)\" command. You can use this function to serve the visualization as a web page if you choose to install bandicoot on infrastructure where you do have access to the default port which is 4242. (This port is not open on your AWS virtual analysis environment.)"
   ]
  },
  {
   "cell_type": "markdown",
   "metadata": {},
   "source": [
    "# 4. Graphs and matrices\n",
    "\n",
    "This section contains network indicators, a gender assortativity example, and a brief demonstration on how to use Bandicoot to generate input for visualizations using NetworkX. You started the course with Professor Pentland describing general patterns in behavior that are observed between individuals. Understanding the individual as a part of a network is an extremely useful way to evaluate how they resemble or do not resemble their friends, as well as the role they play in their network or community.\n",
    "\n",
    "In our current dataset, “Friends and Family”, the majority of interactions take place outside of the population in the study, therefore performing the calculations on this dataset does not make sense. This is because the data is not representative of the full network of contacts. In a commercial application you would most likely encounter a similar situation as there are multiple carriers, each with only a portion of the total market share. The figures differ per country but typically fall in the range of 10-30% market share for the main (dominant) carriers.\n",
    "\n",
    "You need to prepare a separate, trimmed, dataset to demonstrate this example.\n",
    "\n",
    "A useful feature of Bandicoot, is that it is very quick to analyze a user's ego network, or individual focus node, if the input data is properly formatted. You start by loading the \"ego\" in question to a Bandicoot object. You need to set the network parameter to \"True\". Bandicoot will attempt to extract all \"ego\" interaction data, as well as do the network analysis for the data contained in the specified network folder."
   ]
  },
  {
   "cell_type": "markdown",
   "metadata": {},
   "source": [
    "## 4.1 Load the data"
   ]
  },
  {
   "cell_type": "code",
   "execution_count": null,
   "metadata": {
    "collapsed": false
   },
   "outputs": [],
   "source": [
    "# Specify the network folder containing all the data.\n",
    "network_folder  = '../data/bandicoot/network_records/'\n",
    "\n",
    "# Create Bandicoot object.\n",
    "BN = bc.read_csv(user_id, network_folder, attributes_path='../data/bandicoot/attributes',network=True)"
   ]
  },
  {
   "cell_type": "markdown",
   "metadata": {},
   "source": [
    "The bandicoot function loads the data, provides summary information and removes the records that are not of interest in the analysis. Performing the data cleansing steps are typically time consuming and prone to error or inconsistencies. The graph data is stored as an adjacency matrix.\n",
    "\n",
    "> **Note**:\n",
    "\n",
    "> You will recall adjacency matrices from Module 4 as a useful mechanism to represent finite graphs. Bandicoot stores graph information in an adjacency matrix, and said matrix indexes in a different object. Once the data has been loaded, you can start exploring the graph."
   ]
  },
  {
   "cell_type": "markdown",
   "metadata": {},
   "source": [
    "## 4.2 Network indicators"
   ]
  },
  {
   "cell_type": "code",
   "execution_count": null,
   "metadata": {
    "collapsed": false
   },
   "outputs": [],
   "source": [
    "# Index of the adjacency matrix - user_ids participating in the network.\n",
    "node_labels = bc.network.matrix_index(BN)\n",
    "node_labels"
   ]
  },
  {
   "cell_type": "markdown",
   "metadata": {},
   "source": [
    "There are several types of adjacency matrices available in Bandicoot, namely:\n",
    "\n",
    "* `bc.network.matrix_directed_weighted(network_user)`\n",
    "* `bc.network.matrix_directed_unweighted(network_user)`\n",
    "* `bc.network.matrix_undirected_weighted(network_user)`\n",
    "* `bc.network.matrix_undirected_unweighted(network_user)`\n",
    "\n",
    "You can review [Bandicoot network documentation](http://bandicoot.mit.edu/docs/reference/bandicoot.network.html) for additional information."
   ]
  },
  {
   "cell_type": "code",
   "execution_count": null,
   "metadata": {
    "collapsed": false
   },
   "outputs": [],
   "source": [
    "# Directed unweighted matrix.\n",
    "directed_unweighted = bc.network.matrix_directed_unweighted(BN)\n",
    "directed_unweighted"
   ]
  },
  {
   "cell_type": "code",
   "execution_count": null,
   "metadata": {
    "collapsed": false
   },
   "outputs": [],
   "source": [
    "# Undirected weighted matrix.\n",
    "undirected_weighted = bc.network.matrix_undirected_weighted(BN)\n",
    "undirected_weighted"
   ]
  },
  {
   "cell_type": "markdown",
   "metadata": {},
   "source": [
    "## 4.3 Gender assortativity\n",
    "This indicator computes the assortativity of nominal attributes. More specifically, it measures the similarity of the current user with his or her correspondents for all bandicoot indicators. For each one, it calculates the variance of the current user’s value with the values for all their correspondents. This indicator measures the homophily of the current user with their correspondents, for each attribute. It returns a value between 0 (no assortativity) and 1 (all the contacts share the same value), which indicates the percentage of contacts sharing the same value.\n",
    "\n",
    "Let's demonstrate this by reviewing the gender assortativity."
   ]
  },
  {
   "cell_type": "code",
   "execution_count": null,
   "metadata": {
    "collapsed": false
   },
   "outputs": [],
   "source": [
    "bc.network.assortativity_attributes(BN)['gender']"
   ]
  },
  {
   "cell_type": "markdown",
   "metadata": {},
   "source": [
    "<br>\n",
    "<div class=\"alert alert-info\">\n",
    "<b>Exercise 2 Start.</b>\n",
    "</div>\n",
    "\n",
    "### Instructions\n",
    "\n",
    "In the previous example you obtained a value of 0.714 or 71.4% for gender assortativity. Random behavior would typically deliver a value centered around 50% if you have enough data points. \n",
    "\n",
    "> **Question**: Do you think the value of 71.4% is meaningful or relevant?\n",
    "\n",
    "> Your answer should be a Yes or No, and a short description of what you think the value obtained means in terms of the dataset."
   ]
  },
  {
   "cell_type": "markdown",
   "metadata": {},
   "source": [
    "Your markdown answer here."
   ]
  },
  {
   "cell_type": "markdown",
   "metadata": {},
   "source": [
    "<br>\n",
    "<div class=\"alert alert-info\">\n",
    "<b>Exercise 2 End.</b>\n",
    "</div>\n",
    "\n",
    "> **Exercise complete**:\n",
    "    \n",
    "> This is a good time to \"Save and Checkpoint\"."
   ]
  },
  {
   "cell_type": "markdown",
   "metadata": {},
   "source": [
    "## 4.4 Ego network visualization"
   ]
  },
  {
   "cell_type": "markdown",
   "metadata": {},
   "source": [
    "You can use the ego network adjacency matrices for further analyses in NetworkX."
   ]
  },
  {
   "cell_type": "code",
   "execution_count": null,
   "metadata": {
    "collapsed": false
   },
   "outputs": [],
   "source": [
    "# Load the relevant libraries and set plotting options.\n",
    "import networkx as nx\n",
    "%matplotlib inline\n",
    "matplotlib.rcParams['figure.figsize'] = (18,11)"
   ]
  },
  {
   "cell_type": "markdown",
   "metadata": {},
   "source": [
    "Create directed unweighted and undirected weighted graphs to visualize the network to better understand the user behaviour as per the examples in section 1.2 of module 4 notebook 2."
   ]
  },
  {
   "cell_type": "code",
   "execution_count": null,
   "metadata": {
    "collapsed": false
   },
   "outputs": [],
   "source": [
    "# Create the graph objects.\n",
    "G_directed_unweighted = nx.from_numpy_matrix(np.array(directed_unweighted))\n",
    "G_undirected_weighted = nx.from_numpy_matrix(np.array(undirected_weighted))\n",
    "node_labels = dict(enumerate(node_labels))"
   ]
  },
  {
   "cell_type": "markdown",
   "metadata": {},
   "source": [
    "#### Plot the directed unweighted graph.\n",
    "This can typically be utilized to better understand the flow or spread of information."
   ]
  },
  {
   "cell_type": "code",
   "execution_count": null,
   "metadata": {
    "collapsed": false
   },
   "outputs": [],
   "source": [
    "# Plot the graph.\n",
    "layout = nx.spring_layout(G_directed_unweighted)\n",
    "nx.draw(G_directed_unweighted, layout, node_color='blue', alpha=0.4, node_size=2000)\n",
    "_ = nx.draw_networkx_labels(G_directed_unweighted, layout, node_labels)"
   ]
  },
  {
   "cell_type": "markdown",
   "metadata": {},
   "source": [
    "#### Plot the undirected weighted graph.\n",
    "This can typically be utilized to better understand the importance of the various individuals and their interactions in the network."
   ]
  },
  {
   "cell_type": "code",
   "execution_count": null,
   "metadata": {
    "collapsed": false
   },
   "outputs": [],
   "source": [
    "# Plot the graph.\n",
    "layout = nx.spring_layout(G_directed_unweighted)\n",
    "nx.draw(G_undirected_weighted, layout, node_color='blue', alpha=0.4, node_size=2000)\n",
    "_ = nx.draw_networkx_labels(G_undirected_weighted, layout, node_labels)"
   ]
  },
  {
   "cell_type": "markdown",
   "metadata": {},
   "source": [
    "> **Note**:\n",
    "\n",
    "> Can you think of use cases for the various networks introduced in module 4? \n",
    "\n",
    "> Feel free to discuss these with your fellow students on the forums."
   ]
  },
  {
   "cell_type": "markdown",
   "metadata": {},
   "source": [
    "# 5. Data error handling\n",
    "This section demonstrates some of Bandicoot’s error handling and reporting strategies for some of the \"faulty\" users.\n",
    "Some circumstances may require working with CDR records and collected mobile phone metadata that have been corrupted. The reasons for this can be numerous, but typically include: wrong formats, faulty files, empty periods of time, missing users, etc. Bandicoot will not attempt to correct errors as this might lead to incorrect analyses. Correctness is key in data science and bandicoot will:\n",
    "\n",
    "1. Warn you when you attempt to import corrupted data;\n",
    "2. Remove faulty records; and\n",
    "3. Report on more than 30 variables (such as the number of contacts, types of records, records containing location), warning you of potential issues when exporting indicators.\n",
    "\n",
    "## 5.1 Bandicoot csv import\n",
    "Importing csv files with bandicoot will produce warnings about:\n",
    "\n",
    "1. No files containing data being found in the specified path.\n",
    "2. The percentage of records missing location information.\n",
    "3. The number of antennas missing geotags (provided the antenna file has been loaded).\n",
    "4. The fraction of duplicated records.\n",
    "5. The fraction of calls with an overlap bigger than 5 minutes.\n"
   ]
  },
  {
   "cell_type": "code",
   "execution_count": null,
   "metadata": {
    "collapsed": true
   },
   "outputs": [],
   "source": [
    "# Set the path and user for demonstration purposes.\n",
    "antenna_file             = '../data/bandicoot/antennas.csv'\n",
    "attributes_path          = '../data/bandicoot/attributes/'\n",
    "records_with_errors_path = '../data/bandicoot/records/'\n",
    "error_user_id            = 'fa10-01-04'"
   ]
  },
  {
   "cell_type": "markdown",
   "metadata": {},
   "source": [
    "## 5.2 Error example"
   ]
  },
  {
   "cell_type": "code",
   "execution_count": null,
   "metadata": {
    "collapsed": false
   },
   "outputs": [],
   "source": [
    "errors = bc.read_csv(error_user_id, records_with_errors_path )"
   ]
  },
  {
   "cell_type": "markdown",
   "metadata": {
    "collapsed": false
   },
   "source": [
    "You can review the errors below to quickly get a view of your dataset. This example includes warnings that are in addition to the missing location and antenna warnings explained earlier. The new warnings include:\n",
    "\n",
    "1. Missing values of call duration.\n",
    "2. Duplicate records.\n",
    "3. Overlapping records.\n",
    "\n",
    "### 5.2.1 Rows with missing values\n",
    "These rows are prudently excluded and their details can be examined using `errors.ignored_records`."
   ]
  },
  {
   "cell_type": "code",
   "execution_count": null,
   "metadata": {
    "collapsed": false
   },
   "outputs": [],
   "source": [
    "errors.ignored_records"
   ]
  },
  {
   "cell_type": "markdown",
   "metadata": {},
   "source": [
    "### 5.2.2 Duplicated records\n",
    " These records are retained by default, but you can change this behavior by adding the parameter “drop_duplicates=True” when loading files.\n",
    "> **Warning**:\n",
    "\n",
    "> Exercise caution when using this option. The maximum timestamp resolution is one minute, and some of the records that appear to be duplicates may in fact be distinct text messages, or even, although very unlikely, very short calls. As such, it is generally advised that you examine the records before removing them."
   ]
  },
  {
   "cell_type": "code",
   "execution_count": null,
   "metadata": {
    "collapsed": false,
    "scrolled": true
   },
   "outputs": [],
   "source": [
    "errors = bc.read_csv(error_user_id, records_with_errors_path, drop_duplicates=True)"
   ]
  },
  {
   "cell_type": "markdown",
   "metadata": {},
   "source": [
    "<br>\n",
    "<div class=\"alert alert-info\">\n",
    "<b>Exercise 3 Start.</b>\n",
    "</div>\n",
    "\n",
    "### Instructions\n",
    " > Data error handling can be a complex task when working with data of any size or volume. \n",
    " \n",
    " > 1) Please state three important topics to consider when performing data error handling.\n",
    " \n",
    " > 2) Also provide us with a short description of your view of items to consider. Your answer should be one or two sentences and can be based on an insight that you reached while completing the course material or from previous experience."
   ]
  },
  {
   "cell_type": "markdown",
   "metadata": {},
   "source": [
    "Your markdown answer here."
   ]
  },
  {
   "cell_type": "markdown",
   "metadata": {},
   "source": [
    "<br>\n",
    "<div class=\"alert alert-info\">\n",
    "<b>Exercise 3 End.</b>\n",
    "</div>"
   ]
  },
  {
   "cell_type": "markdown",
   "metadata": {},
   "source": [
    "# 6. Loading the full dataset\n",
    "In this section, you will load the full “Friends and Family” reality commons dataset and compute all the metrics (briefly introduced in section 2.2.3) for all the users. You need to specify a \"flat\" directory, containing files where each file corresponds to a single user, as input. It is crucial that the record-file naming convention is being observed, i.e. the names of the files are the user IDs and each user's data resides in a separate file."
   ]
  },
  {
   "cell_type": "code",
   "execution_count": null,
   "metadata": {
    "collapsed": false
   },
   "outputs": [],
   "source": [
    "# View the files in the directory using the operating system list function.\n",
    "!ls ../data/bandicoot/clean_records/ "
   ]
  },
  {
   "cell_type": "markdown",
   "metadata": {},
   "source": [
    "## 6.1 Load the files and create a metric\n",
    "You can review the bandicoot [utils.all](http://bandicoot.mit.edu/docs/reference/generated/bandicoot.utils.all.html#bandicoot.utils.all) page for more detail."
   ]
  },
  {
   "cell_type": "code",
   "execution_count": null,
   "metadata": {
    "collapsed": false
   },
   "outputs": [],
   "source": [
    "# Load libraries and set path options.\n",
    "import glob, os\n",
    "records_path    = '../data/bandicoot/clean_records/'\n",
    "\n",
    "# Create an empty list and then cycle through each of the available files in the directory to add features.\n",
    "features = []\n",
    "for f in glob.glob(records_path + '*.csv'):\n",
    "    user_id = os.path.basename(f)[:-4]\n",
    "\n",
    "    try:\n",
    "        B = bc.read_csv(user_id, records_path, attributes_path=attributes_path, describe=False, warnings=False)\n",
    "        metrics_dict = bc.utils.all(B, summary='extended', split_day=True, split_week=True)\n",
    "    except Exception as e:\n",
    "        metrics_dict = {'name': user_id, 'error': str(e)}\n",
    "\n",
    "    features.append(metrics_dict)"
   ]
  },
  {
   "cell_type": "markdown",
   "metadata": {},
   "source": [
    "## 6.2 Save the interactions in a file for future use\n",
    "> **Note**:\n",
    "\n",
    "> The application of machine-learning techniques, using a similar dataset, will be explored in the next notebook."
   ]
  },
  {
   "cell_type": "code",
   "execution_count": null,
   "metadata": {
    "collapsed": false
   },
   "outputs": [],
   "source": [
    "bc.io.to_csv(features, 'all_features.csv')"
   ]
  },
  {
   "cell_type": "markdown",
   "metadata": {},
   "source": [
    "Before moving on, take a quick look at the results of the pipeline.\n",
    "\n",
    "#### Review the data for the first user.\n",
    "Keep in mind that in manual approaches, you would likely have to create each of these features by hand. The process entails thinking about features and reviewing available literature to identify applicable features. These features are used in machine learning techniques (including feature selection) for various use cases.\n",
    "\n",
    "> **Note**:\n",
    "\n",
    "> The section below will display a large number of features for the first user. You do not need to review in detail, but we want to emphasise the ease of creation of features and the advantages of computationally optimized functions. These are extremely useful when scaling your analyses to large record sets such as those typically found in the telecommunications industry."
   ]
  },
  {
   "cell_type": "code",
   "execution_count": null,
   "metadata": {
    "collapsed": false,
    "scrolled": true
   },
   "outputs": [],
   "source": [
    "features[:1]"
   ]
  },
  {
   "cell_type": "markdown",
   "metadata": {},
   "source": [
    "#### Review the number of users."
   ]
  },
  {
   "cell_type": "code",
   "execution_count": null,
   "metadata": {
    "collapsed": false
   },
   "outputs": [],
   "source": [
    "# Display the length or number of features.\n",
    "len(features)"
   ]
  },
  {
   "cell_type": "code",
   "execution_count": null,
   "metadata": {
    "collapsed": false,
    "scrolled": false
   },
   "outputs": [],
   "source": [
    "# To print the list of names contained in features you can uncomment the lines below. This is not required.\n",
    "# for u in features:\n",
    "#    print u['name']"
   ]
  },
  {
   "cell_type": "markdown",
   "metadata": {
    "collapsed": true
   },
   "source": [
    "# 7. Submit your notebook\n",
    "\n",
    "Please make sure that you:\n",
    "- Perform a final \"Save and Checkpoint\";\n",
    "- Download a copy of the notebook in \".ipynb\" format to your local machine using \"File\", \"Download as\", and \"IPython Notebook (.ipynb)\"; and\n",
    "- Submit a copy of this file to the online campus."
   ]
  },
  {
   "cell_type": "markdown",
   "metadata": {},
   "source": [
    "# 8. References\n",
    "Jahani, Eaman, Pal Roe Sundsoy, Johannes Bjelland, Asif Iqbal, Alex Pentland, and Yves-Alexandre de Montjoye. 2015. “Predicting Gender from Mobile Phone Metadata.” Paper presented at the Netmob Conference, Massachusetts Institute of Technology, Cambridge, April 8-10.\n",
    "\n",
    "Aharony, Nadav, Wei Pan, Cory Ip,Inas Khayal, Alex Pentland. 2011. “SocialfMRI: Investigating and shaping social mechanisms in the real world.” Pervasive and Mobile Computing 7:643-659."
   ]
  },
  {
   "cell_type": "code",
   "execution_count": null,
   "metadata": {
    "collapsed": true
   },
   "outputs": [],
   "source": []
  }
 ],
 "metadata": {
  "kernelspec": {
   "display_name": "Python [Root]",
   "language": "python",
   "name": "Python [Root]"
  },
  "language_info": {
   "codemirror_mode": {
    "name": "ipython",
    "version": 2
   },
   "file_extension": ".py",
   "mimetype": "text/x-python",
   "name": "python",
   "nbconvert_exporter": "python",
   "pygments_lexer": "ipython2",
   "version": "2.7.12"
  }
 },
 "nbformat": 4,
 "nbformat_minor": 0
}
