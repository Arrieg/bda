{
 "cells": [
  {
   "cell_type": "markdown",
   "metadata": {},
   "source": [
    "<div align=\"right\">Python 2.7 Jupyter Notebook</div>"
   ]
  },
  {
   "cell_type": "markdown",
   "metadata": {},
   "source": [
    "# Introduction to NetworkX"
   ]
  },
  {
   "cell_type": "markdown",
   "metadata": {},
   "source": [
    "<div class=\"alert alert-warning\">\n",
    "<b>This notebook should be opened and completed by students completing both the technical and non-technical tracks of this course.</b><br>As a reminder, from notebook 2 onwards there will be different versions for the non-technical and technical tracks. Students should open and complete the relevant notebooks based on their choice of technical or non-technical tracks. To avoid any confusion:\n",
    "\n",
    "<br><br><b>Non-technical track notebooks [Unit 3]</b>: \n",
    "<li>M4_NB2_PeerNetworkAnalysis_Non_Technical\n",
    "<li>M4_NB3_NetworkClustering_Non_Technical\n",
    "\n",
    "<br><br><b>Technical track notebooks [Unit 4]</b>:\n",
    "<li>M4_NB2_PeerNetworkAnalysis_Technical\n",
    "<li>M4_NB3_NetworkClustering_Technical\n",
    "<li>M4_NB4_GraphSignalProcessing_Technical\n",
    "\n",
    "</div>\n",
    "\n",
    "### Your completion of the Notebook exercises will be graded based on your ability to: \n",
    "\n",
    "> **Understand**: Does your pseudo-code and/or comments show evidence that you recall and understand technical concepts?\n",
    "\n",
    "> **Apply**: Are you able to execute code, using the supplied examples, that perform the required functionality on supplied or generated data sets? \n",
    "\n",
    "> **Analyze**: Are you able to pick the relevant method, library or resolve specific stated questions?"
   ]
  },
  {
   "cell_type": "markdown",
   "metadata": {},
   "source": [
    "# Notebook introduction\n",
    "\n",
    "This week, the practical assessments will focus on the study of networks. In this notebook you will start with an introduction to NetworkX.\n",
    "\n",
    "[NetworkX](https://networkx.github.io/)  is a Python language software package used to create, manipulate, and study the structure, dynamics, and function of complex networks. The first version was designed and written by Aric Hagberg, Dan Schult, and Pieter Swart between 2002 and 2003.\n",
    "\n",
    "With NetworkX you can load and store networks in standard and nonstandard data formats; generate numerous types of random and classic networks; analyze network structure; build network models; design new network algorithms; draw networks; and much more.\n",
    "\n",
    "To access and use NetworkX module functionality, it first needs to be imported into your Jupyter notebook workspace. In addition to this, you will also import Matplotlib - a plotting and data visualization module that will be used for the graphical representation of the graph objects created using NetworkX.\n",
    "\n",
    "Here are some additional links that will provide you with solid foundational knowledge of NetworkX:\n",
    "\n",
    "- [NetworkX documentation](http://networkx.readthedocs.io/en/networkx-1.11/)\n",
    "- [NetworkX quick example](https://networkx.github.io/examples.html)\n",
    "- [NetworkX examples](http://networkx.readthedocs.io/en/networkx-1.11/examples/)\n",
    "- [NetworkX tutorial](http://networkx.readthedocs.io/en/networkx-1.11/tutorial/)\n"
   ]
  },
  {
   "cell_type": "markdown",
   "metadata": {},
   "source": [
    "> **Note**: \n",
    "\n",
    "> It is strongly recommended that you save a checkpoint after applying significant changes or completing exercises. This allows you to return the notebook to a previous state should you wish to do so. On the Jupyter menu, select \"File\", then \"Save and Checkpoint\" from the dropdown menu that appears."
   ]
  },
  {
   "cell_type": "markdown",
   "metadata": {},
   "source": [
    "#### Load libraries and set options"
   ]
  },
  {
   "cell_type": "code",
   "execution_count": null,
   "metadata": {
    "collapsed": false
   },
   "outputs": [],
   "source": [
    "# Load relevant libraries.\n",
    "import networkx as nx          # Graph-like object representation and manipulation module.\n",
    "import matplotlib.pylab as plt\n",
    "%matplotlib inline"
   ]
  },
  {
   "cell_type": "markdown",
   "metadata": {},
   "source": [
    "In many cases you may be dependent on a specific version of python libraries.\n",
    "Executing the cell below will provide you with details about the version of NetworkX installed in your workspace."
   ]
  },
  {
   "cell_type": "code",
   "execution_count": null,
   "metadata": {
    "collapsed": false
   },
   "outputs": [],
   "source": [
    "if(float(nx.__version__) < 1.11):\n",
    "    print 'WARNING. Expecting NetworkX version {0} or higher but found {1}'.format(1.11, nx.__version__)\n",
    "else:\n",
    "    print 'CONGRATULATIONS! You have the expected version of NetworkX.'"
   ]
  },
  {
   "cell_type": "markdown",
   "metadata": {},
   "source": [
    "# 1. Graph creation\n",
    "With NetworkX, graph objects can be created in one of three ways:\n",
    "\n",
    "1. Adding edges and nodes explicitly;\n",
    "\n",
    "2. Importing data from data sources; and\n",
    "\n",
    "3. Graph generators.\n",
    "\n",
    "This notebook predominantly investigates graph exploration using the first approach, with a few remarks made on the other graph creation approaches.\n",
    "\n",
    "## 1.1 Adding edges and nodes explicitly\n",
    "First, create a graph object by explicitly adding nodes to said object."
   ]
  },
  {
   "cell_type": "code",
   "execution_count": null,
   "metadata": {
    "collapsed": true
   },
   "outputs": [],
   "source": [
    "# Instantiate an empty, undirected graph object.\n",
    "G=nx.Graph()\n",
    "\n",
    "# Add a node.\n",
    "G.add_node(1)\n",
    "\n",
    "# Add another node.\n",
    "G.add_node('x')"
   ]
  },
  {
   "cell_type": "markdown",
   "metadata": {},
   "source": [
    "Visualize the graph structure."
   ]
  },
  {
   "cell_type": "code",
   "execution_count": null,
   "metadata": {
    "collapsed": false
   },
   "outputs": [],
   "source": [
    "# Plot the graph structure.\n",
    "plt.axis('off')\n",
    "nx.draw(G,pos=nx.spring_layout(G), with_labels=True, node_size=500)"
   ]
  },
  {
   "cell_type": "markdown",
   "metadata": {},
   "source": [
    "Alternatively, you can start off from an edge pair or a list of edge pairs. Such a pairing may or may not include the strength, or other attributes, that describes the relationship between the pair(s). The special edge attribute \"weight\" should always be numeric and holds values used by algorithms requiring weighted edges. When specifying edges as tuples, the optional third argument refers to the weight."
   ]
  },
  {
   "cell_type": "code",
   "execution_count": null,
   "metadata": {
    "collapsed": false
   },
   "outputs": [],
   "source": [
    "# Demonstrate a second method of creating a graph.\n",
    "G.add_edge(1,3)\n",
    "\n",
    "# Add another edge with a weight.\n",
    "G.add_edge(2,'x',weight=0.9)\n",
    "G.add_edge(1,'x',weight=3.142)\n",
    "\n",
    "# Add edges from a list of tuples.\n",
    "edgelist=[('a','b',5.0),('b','c',3.0),('a','c',1.0),('c','d',7.3)] \n",
    "G.add_weighted_edges_from(edgelist)\n",
    "\n",
    "# Visualize the graph structure.\n",
    "nx.draw(G, with_labels=True)"
   ]
  },
  {
   "cell_type": "markdown",
   "metadata": {},
   "source": [
    "A node can be any of the so-called **hashable** objects - strings, numbers, files, functions, etc.  In the following two examples, a node that is a math function and a node that is a file object are added."
   ]
  },
  {
   "cell_type": "code",
   "execution_count": null,
   "metadata": {
    "collapsed": true
   },
   "outputs": [],
   "source": [
    "# Add a sine function as node, which is imported from the math module.\n",
    "from math import sin\n",
    "G.add_node(sin) "
   ]
  },
  {
   "cell_type": "code",
   "execution_count": null,
   "metadata": {
    "collapsed": true
   },
   "outputs": [],
   "source": [
    "# Add file handle object as node.\n",
    "fh = open(\"../data/CallLog.csv\",\"r\") # handle to file object\n",
    "G.add_node(fh)"
   ]
  },
  {
   "cell_type": "markdown",
   "metadata": {},
   "source": [
    "You can examine the nodes and edges in your graph using various commands. Execute the cells below to see the resulting output."
   ]
  },
  {
   "cell_type": "code",
   "execution_count": null,
   "metadata": {
    "collapsed": false
   },
   "outputs": [],
   "source": [
    "# List the nodes in your graph object.\n",
    "G.nodes()"
   ]
  },
  {
   "cell_type": "code",
   "execution_count": null,
   "metadata": {
    "collapsed": false
   },
   "outputs": [],
   "source": [
    "# How many nodes are contained within your graph model?\n",
    "G.number_of_nodes()"
   ]
  },
  {
   "cell_type": "code",
   "execution_count": null,
   "metadata": {
    "collapsed": false
   },
   "outputs": [],
   "source": [
    "# Alternative syntax for nodes.\n",
    "G.order()"
   ]
  },
  {
   "cell_type": "code",
   "execution_count": null,
   "metadata": {
    "collapsed": false
   },
   "outputs": [],
   "source": [
    "# List the edges.\n",
    "G.edges()"
   ]
  },
  {
   "cell_type": "code",
   "execution_count": null,
   "metadata": {
    "collapsed": false
   },
   "outputs": [],
   "source": [
    "# How many edges do you have? \n",
    "G.size()"
   ]
  },
  {
   "cell_type": "code",
   "execution_count": null,
   "metadata": {
    "collapsed": false
   },
   "outputs": [],
   "source": [
    "# Alternative syntax for edges.\n",
    "G.number_of_edges()"
   ]
  },
  {
   "cell_type": "markdown",
   "metadata": {},
   "source": [
    "#### 1.1.1 Getting edge weight information\n",
    "The most direct way to get edge weight data is using the \"get_edge_data\" method, which returns the attribute dictionary associated with an edge pairing. The following example uses a python \"trick\" called unpacking, in which an edge pairing tuple is used as the argument to the function call, prefixed with a '*' symbol."
   ]
  },
  {
   "cell_type": "code",
   "execution_count": null,
   "metadata": {
    "collapsed": false
   },
   "outputs": [],
   "source": [
    "G.get_edge_data(*G.edges()[0])"
   ]
  },
  {
   "cell_type": "markdown",
   "metadata": {},
   "source": [
    "Print the weight information for all of the edges in your graph object."
   ]
  },
  {
   "cell_type": "code",
   "execution_count": null,
   "metadata": {
    "collapsed": false
   },
   "outputs": [],
   "source": [
    "for n1,n2,attr in G.edges(data=True): # Unpacking.\n",
    "         print n1,n2,attr"
   ]
  },
  {
   "cell_type": "markdown",
   "metadata": {},
   "source": [
    "#### 1.1.2 Getting neighbor information\n",
    "It is also possible to get a list of the neighbors associated with a given node. In the following cell,  invoke the graph method \"neighbors\" and specify the node whose neighbors you are interested in."
   ]
  },
  {
   "cell_type": "code",
   "execution_count": null,
   "metadata": {
    "collapsed": false
   },
   "outputs": [],
   "source": [
    "G.neighbors('x')"
   ]
  },
  {
   "cell_type": "markdown",
   "metadata": {},
   "source": [
    "You can also print the list of all nodes and their corresponding neighbors."
   ]
  },
  {
   "cell_type": "code",
   "execution_count": null,
   "metadata": {
    "collapsed": false
   },
   "outputs": [],
   "source": [
    "for node in G.nodes():\n",
    "         print node, G.neighbors(node)"
   ]
  },
  {
   "cell_type": "markdown",
   "metadata": {},
   "source": [
    "#### 1.1.3 Removing nodes or edges \n",
    "Removing edges and nodes from a graph is very simple, and is illustrated in the cell below. "
   ]
  },
  {
   "cell_type": "code",
   "execution_count": null,
   "metadata": {
    "collapsed": true
   },
   "outputs": [],
   "source": [
    "# Add a set of edges from a list of tuples.\n",
    "e = [(1 ,2) ,(1 ,3)]\n",
    "G.add_edges_from(e)\n",
    "\n",
    "# Remove edge (1,2).\n",
    "G.remove_edge(1,2)"
   ]
  },
  {
   "cell_type": "code",
   "execution_count": null,
   "metadata": {
    "collapsed": true
   },
   "outputs": [],
   "source": [
    "# Similarly, you can also remove a node.\n",
    "G.remove_node(3)"
   ]
  },
  {
   "cell_type": "code",
   "execution_count": null,
   "metadata": {
    "collapsed": true
   },
   "outputs": [],
   "source": [
    "# Multiple edge or node removal is also possible, e.g.\n",
    "G.remove_edges_from(e)"
   ]
  },
  {
   "cell_type": "markdown",
   "metadata": {},
   "source": [
    "#### 1.1.4 Cleaning up"
   ]
  },
  {
   "cell_type": "code",
   "execution_count": null,
   "metadata": {
    "collapsed": true
   },
   "outputs": [],
   "source": [
    "# Close the file handle object used above.\n",
    "fh.close()"
   ]
  },
  {
   "cell_type": "markdown",
   "metadata": {},
   "source": [
    "## 1.2 Graph generators\n",
    "NetworkX also has standard algorithms to create network topologies. The following cell includes some examples that you are encouraged to build, analyze, and visualize using the tools described above, as well as other tools that will be introduced later."
   ]
  },
  {
   "cell_type": "code",
   "execution_count": null,
   "metadata": {
    "collapsed": true
   },
   "outputs": [],
   "source": [
    "# Small, famous graphs.\n",
    "petersen=nx.petersen_graph()\n",
    "tutte=nx.tutte_graph()\n",
    "maze=nx.sedgewick_maze_graph()\n",
    "tet=nx.tetrahedral_graph()"
   ]
  },
  {
   "cell_type": "code",
   "execution_count": null,
   "metadata": {
    "collapsed": true
   },
   "outputs": [],
   "source": [
    "# Classic graphs.\n",
    "K_5=nx.complete_graph(5)\n",
    "K_3_5=nx.complete_bipartite_graph(3,5)\n",
    "barbell=nx.barbell_graph(10,10)\n",
    "lollipop=nx.lollipop_graph(10,20)"
   ]
  },
  {
   "cell_type": "code",
   "execution_count": null,
   "metadata": {
    "collapsed": true
   },
   "outputs": [],
   "source": [
    "# Random graphs.\n",
    "er=nx.erdos_renyi_graph(100,0.15)\n",
    "ws=nx.watts_strogatz_graph(30,3,0.1)\n",
    "ba=nx.barabasi_albert_graph(100,5)\n",
    "red=nx.random_lobster(100,0.9,0.9)"
   ]
  },
  {
   "cell_type": "markdown",
   "metadata": {},
   "source": [
    "<br>\n",
    "<div class=\"alert alert-info\">\n",
    "<b>Exercise 1 Start.</b>\n",
    "</div>\n",
    "\n",
    "> **Note**:\n",
    "\n",
    "> This exercise contains five sections. It is broken up into these sections in order to make it easier to follow. Please complete all five sections before saving and submitting your notebook.\n",
    "\n",
    "### Instructions\n",
    "\n",
    "> 1.1) Create an **_[ERDOS RENYI](http://networkx.github.io/documentation/networkx-1.7/reference/generated/networkx.generators.random_graphs.erdos_renyi_graph.html#networkx.generators.random_graphs.erdos_renyi_graph)_** random graph.\n",
    "Your graph should have 20 nodes, where each of the edges are chosen with a probability of 0.15 using NetworkX's graph generator methods. Assign your graph to a variable 'G'.\n",
    "\n",
    "> The syntax should be: \n",
    "\n",
    "> ```G = nx.erdos_renyi_graph(nodes, probability, seed)```"
   ]
  },
  {
   "cell_type": "code",
   "execution_count": null,
   "metadata": {
    "collapsed": false
   },
   "outputs": [],
   "source": [
    "# First set the range for reproducibility of the results.\n",
    "import random\n",
    "s = random.seed(20)"
   ]
  },
  {
   "cell_type": "code",
   "execution_count": null,
   "metadata": {
    "collapsed": true
   },
   "outputs": [],
   "source": [
    "# Your answer here."
   ]
  },
  {
   "cell_type": "markdown",
   "metadata": {},
   "source": [
    "### Instructions (continued)\n",
    "> 1.2) Compute the number of edges in the graph using one of the methods provided by NetworkX."
   ]
  },
  {
   "cell_type": "code",
   "execution_count": null,
   "metadata": {
    "collapsed": true
   },
   "outputs": [],
   "source": [
    "# Your answer here."
   ]
  },
  {
   "cell_type": "markdown",
   "metadata": {},
   "source": [
    "### Instructions (continued)\n",
    "> 1.3) Print the corresponding neighbors for each node."
   ]
  },
  {
   "cell_type": "code",
   "execution_count": null,
   "metadata": {
    "collapsed": true
   },
   "outputs": [],
   "source": [
    "# Your answer here."
   ]
  },
  {
   "cell_type": "markdown",
   "metadata": {},
   "source": [
    "### Instructions (continued)\n",
    "> 1.4) Find a node with the most number of neigbors. How many neighbors does it have?\n",
    "\n",
    "> **Hint**: Review [NetworkX degree documentation](https://networkx.github.io/documentation/networkx-1.10/reference/generated/networkx.DiGraph.degree.html)."
   ]
  },
  {
   "cell_type": "code",
   "execution_count": null,
   "metadata": {
    "collapsed": true
   },
   "outputs": [],
   "source": [
    "# Your answer here."
   ]
  },
  {
   "cell_type": "markdown",
   "metadata": {},
   "source": [
    "### Instructions (continued)\n",
    "> 1.5) Remove the node with the most neighbors (found in exercise 1.4 above) from the graph. "
   ]
  },
  {
   "cell_type": "code",
   "execution_count": null,
   "metadata": {
    "collapsed": true
   },
   "outputs": [],
   "source": [
    "# Your answer here."
   ]
  },
  {
   "cell_type": "markdown",
   "metadata": {},
   "source": [
    "<br>\n",
    "<div class=\"alert alert-info\">\n",
    "<b>Exercise 1 End.</b>\n",
    "</div>\n",
    "\n",
    "> **Exercise complete**:\n",
    "    \n",
    "> This is a good time to \"Save and Checkpoint\"."
   ]
  },
  {
   "cell_type": "markdown",
   "metadata": {},
   "source": [
    "## 3. Submit your notebook\n",
    "\n",
    "Please make sure that you:\n",
    "- Perform a final \"Save and Checkpoint\";\n",
    "- Download a copy of the notebook in \".ipynb\" format to your local machine using \"File\", \"Download as\", and \"IPython Notebook (.ipynb)\"; and\n",
    "- Submit a copy of this file to the online campus."
   ]
  },
  {
   "cell_type": "code",
   "execution_count": null,
   "metadata": {
    "collapsed": true
   },
   "outputs": [],
   "source": []
  }
 ],
 "metadata": {
  "kernelspec": {
   "display_name": "Python 2",
   "language": "python",
   "name": "python2"
  },
  "language_info": {
   "codemirror_mode": {
    "name": "ipython",
    "version": 2
   },
   "file_extension": ".py",
   "mimetype": "text/x-python",
   "name": "python",
   "nbconvert_exporter": "python",
   "pygments_lexer": "ipython2",
   "version": "2.7.11"
  }
 },
 "nbformat": 4,
 "nbformat_minor": 0
}
