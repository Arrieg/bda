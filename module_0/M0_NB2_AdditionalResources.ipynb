{
 "cells": [
  {
   "cell_type": "markdown",
   "metadata": {},
   "source": [
    "<div align=\"right\">Python 2.7 Jupyter Notebook</div>"
   ]
  },
  {
   "cell_type": "markdown",
   "metadata": {},
   "source": [
    "# Refreshing your virtual analysis environment and additional resources"
   ]
  },
  {
   "cell_type": "markdown",
   "metadata": {},
   "source": [
    "### Introduction\n",
    "\n",
    "We will release content at the start of each module and you will need to visit this notebook before starting a new module.\n",
    "In the first step you will update the notebook itself. After refreshing the page (F5) additional instructions will be visible in the remainder of the Notebook.\n",
    "\n",
    "Please remember that we will **force an update** and that any changes you make to this notebook will be lost when you refresh the notebook. Should you make any changes that you want to keep, please save the notebook under a different file name. Please make sure that you download copies of all the notebooks that you have changed and need to keep to your local device."
   ]
  },
  {
   "cell_type": "markdown",
   "metadata": {},
   "source": [
    "## 1. Update this notebook\n",
    "### 1.1 Execute the cell below to update this notebook.\n",
    "You should see:\n",
    "> `A    M0_NB2_AdditionalResources.ipynb`\n",
    "\n",
    "> `Export complete.`"
   ]
  },
  {
   "cell_type": "code",
   "execution_count": null,
   "metadata": {
    "collapsed": false,
    "scrolled": true
   },
   "outputs": [],
   "source": [
    "## Forced update of M0_NB2_AdditionalResources.ipynb\n",
    "!svn export https://github.com/getsmarter/bda/trunk/module_0/M0_NB2_AdditionalResources.ipynb /home/ubuntu/projects/module_0/ --force"
   ]
  },
  {
   "cell_type": "markdown",
   "metadata": {},
   "source": [
    "### 1.2 Refresh this page in your browser to reflect changes in the notebook. \n",
    "Press F5 or manually refresh this page. You should see a cell with the latest module available below."
   ]
  },
  {
   "cell_type": "markdown",
   "metadata": {},
   "source": [
    "Status: <font color='green'><b>Module 1 content added - Version 1.00.</b></font>"
   ]
  },
  {
   "cell_type": "markdown",
   "metadata": {},
   "source": [
    "> **NOTE to non-technical users**:\n",
    "\n",
    "> We utilise this mechanism to avoid additional effort on your behalf to update and refresh your environment. The process has been designed to ensure that you can select and run all the cells below and you do not need to understand the detail of the steps completed. Optional items will be marked clearly.\n",
    "\n",
    "> When executing the commands, you only need to review the status messages that appear below the cells that you execute. We do not want to overwrite changes that you have made to files and apart from this notebook, our process will not overwrite any files that already exist in the various directories. Should you receive an error message that the file already exist, you will need to manually remove or rename existing files before coming back to this notebook and resuming the process from the point where you received the error."
   ]
  },
  {
   "cell_type": "markdown",
   "metadata": {},
   "source": [
    "## 2. Additional resources - Module 1\n",
    "Please read the instructions that we provide carefully and proceed to execute all cells not specifically marked as optional.\n",
    "\n",
    "This week we will:\n",
    "- Install additional libraries.\n",
    "- Load data sources and additional files required.\n",
    "- Load the notebooks required.\n",
    "\n",
    "Should you receive error messages which you are not able to resolve with the guidelines below, please reach out to technical support to assist you."
   ]
  },
  {
   "cell_type": "markdown",
   "metadata": {},
   "source": [
    "### 2.1 Install additional libraries\n",
    "You can install additional libraries in your command line or directly from a notebook.\n",
    "This section is used to update your virtual analysis environment by installing the libraries that you will require to complete the exercises.\n",
    "It is possible to install additional libraries, but we strongly encourage students not to install additional libraries while the course is in progress to ensure that your environment remains stable."
   ]
  },
  {
   "cell_type": "markdown",
   "metadata": {},
   "source": [
    "#### 2.1.1 Folium"
   ]
  },
  {
   "cell_type": "code",
   "execution_count": null,
   "metadata": {
    "collapsed": false
   },
   "outputs": [],
   "source": [
    "!pip install --target=/home/ubuntu/.local/lib/python2.7/site-packages folium"
   ]
  },
  {
   "cell_type": "markdown",
   "metadata": {},
   "source": [
    "You should see a message that ends with \"Successfully installed Jinja2-2.8 MarkupSafe-0.23 folium-0.2.1\" and can confirm that folium is available by executing the cell below. To test that the library has been successfully installed you can execute the code cell below. There will be no output if the cell is executed successfully. It will produce an error message if the library was not installed correctly and is therefore not available to your notebook server."
   ]
  },
  {
   "cell_type": "code",
   "execution_count": null,
   "metadata": {
    "collapsed": true
   },
   "outputs": [],
   "source": [
    "import folium"
   ]
  },
  {
   "cell_type": "markdown",
   "metadata": {},
   "source": [
    "#### 2.1.2 Geocoder"
   ]
  },
  {
   "cell_type": "code",
   "execution_count": null,
   "metadata": {
    "collapsed": false,
    "scrolled": true
   },
   "outputs": [],
   "source": [
    "!pip install --target=/home/ubuntu/.local/lib/python2.7/site-packages geocoder"
   ]
  },
  {
   "cell_type": "markdown",
   "metadata": {},
   "source": [
    "You should see a message that ends with \"Successfully installed click decorator-4.0.10 geocoder ratelim requests six\" and can confirm that geocoder is available by executing the cell below. Similar to the comment regarding folium, no output for the cell below is good news as it means that geocoder has been installed correctly and is available to your notebook server."
   ]
  },
  {
   "cell_type": "code",
   "execution_count": null,
   "metadata": {
    "collapsed": true
   },
   "outputs": [],
   "source": [
    "import geocoder"
   ]
  },
  {
   "cell_type": "markdown",
   "metadata": {},
   "source": [
    "That's it for libraries. Lets move to populating data sets and other supporting files."
   ]
  },
  {
   "cell_type": "markdown",
   "metadata": {},
   "source": [
    "### 2.2 Data Sources and supporting files for Module 1\n",
    "You should execute the cell below and will see a line containing the status for each statement.\n",
    "This action should be performed once. Subsequent attempts to execute the cell will fail as the files will already exist. Should you wish to refresh the files, you will need to manually remove the files from the \"module_1\" directory before executing the cell again."
   ]
  },
  {
   "cell_type": "markdown",
   "metadata": {},
   "source": [
    "> Nine files will be uploaded to your virtual analysis environment by the code block below. The \"In[*]\" will change to \"In[Number]\" and the last two lines of the output message will indicate that the file \"wifi_u02.csv\" export has completed. "
   ]
  },
  {
   "cell_type": "code",
   "execution_count": null,
   "metadata": {
    "collapsed": false
   },
   "outputs": [],
   "source": [
    "# Additional files, images and datasets utilised in module 1\n",
    "# README\n",
    "!svn export https://github.com/getsmarter/bda/trunk/module_1/README.md /home/ubuntu/projects/module_1/\n",
    "\n",
    "# Images rendered in notebooks\n",
    "!svn export https://github.com/getsmarter/bda/trunk/module_1/m1_f1_data_analysis.PNG /home/ubuntu/projects/module_1/\n",
    "!svn export https://github.com/getsmarter/bda/trunk/module_1/m1_f2_dq_5r.PNG /home/ubuntu/projects/module_1/\n",
    "\n",
    "# Sample data\n",
    "!svn export https://github.com/getsmarter/bda/trunk/module_1/example.db /home/ubuntu/projects/module_1/\n",
    "!svn export https://github.com/getsmarter/bda/trunk/module_1/grouped_geocoded.csv /home/ubuntu/projects/module_1/\n",
    "!svn export https://github.com/getsmarter/bda/trunk/module_1/students_raw.csv /home/ubuntu/projects/module_1/\n",
    "!svn export https://github.com/getsmarter/bda/trunk/module_1/workbook.csv /home/ubuntu/projects/module_1/\n",
    "\n",
    "# Sample data from Dartmouth Studentlife\n",
    "!svn export https://github.com/getsmarter/bda/trunk/module_1/gps_u02.csv /home/ubuntu/projects/module_1/\n",
    "!svn export https://github.com/getsmarter/bda/trunk/module_1/wifi_u02.csv /home/ubuntu/projects/module_1/"
   ]
  },
  {
   "cell_type": "markdown",
   "metadata": {
    "collapsed": true
   },
   "source": [
    "### 2.3 Notebooks for Module 1\n",
    "When executing the cell below you will see a status message for each of the lines.\n",
    "The status will either be that \"the destination file exists and will not be overridden unless forced\" or \"export complete\". The first message means that the notebook has not been refreshed and you will need to go to the relevant directory and change the filename or remove the file before retrying to refresh. The second means that a copy of the file has been uploaded to your virtual analysis environment.\n",
    "\n",
    "Your directory will not contain any notebooks when you execute this command the first time and it should complete with three messages indicating \"export complete\"."
   ]
  },
  {
   "cell_type": "code",
   "execution_count": null,
   "metadata": {
    "collapsed": false
   },
   "outputs": [],
   "source": [
    "# Add Module 1 Notebooks 1-3 to your virtual analysis environment\n",
    "!svn export https://github.com/getsmarter/bda/trunk/module_1/M1_NB1_PythonIntro.ipynb /home/ubuntu/projects/module_1/\n",
    "!svn export https://github.com/getsmarter/bda/trunk/module_1/M1_NB2_DataAnalysisBasics.ipynb /home/ubuntu/projects/module_1/\n",
    "!svn export https://github.com/getsmarter/bda/trunk/module_1/M1_NB3_DataConsiderations.ipynb /home/ubuntu/projects/module_1/"
   ]
  },
  {
   "cell_type": "markdown",
   "metadata": {},
   "source": [
    "### 2.4 [OPTIONAL] Refresh specific notebooks\n",
    "In cases where you have made changes to the notebook and wish to return the notebook to its original state, you will have to ensure that there are no files with the original names in the \"module_1\" directory.\n",
    "\n",
    "The three files previously created by in the \"module_0\" directory that you may wish to refresh are:\n",
    "- M1_NB1_PythonIntro.ipynb\n",
    "- M1_NB2_DataAnalysisBasics.ipynb\n",
    "- M1_NB3_DataConsiderations.ipynb\n",
    "\n",
    "You can rename or remove the existing files in the directory and then uncomment the relevant line or lines below to refresh your environment.\n",
    "\n",
    "> ** Note**: Statements in code blocks that start with # are viewed as comments and is not executed when running the cell."
   ]
  },
  {
   "cell_type": "code",
   "execution_count": null,
   "metadata": {
    "collapsed": true
   },
   "outputs": [],
   "source": [
    "# Uncomment the line below to refresh M1_NB1_PythonIntro.ipynb\n",
    "#!svn export https://github.com/getsmarter/bda/trunk/module_1/M1_NB1_PythonIntro.ipynb /home/ubuntu/projects/module_1/\n",
    "\n",
    "# Uncomment the line below to refresh M1_NB2_DataAnalysisBasics.ipynb\n",
    "#!svn export https://github.com/getsmarter/bda/trunk/module_1/M1_NB2_DataAnalysisBasics.ipynb /home/ubuntu/projects/module_1/\n",
    "\n",
    "# Uncomment the line below to refresh M1_M1_NB3_DataConsiderations.ipynb\n",
    "#!svn export https://github.com/getsmarter/bda/trunk/module_1/M1_NB3_DataConsiderations.ipynb /home/ubuntu/projects/module_1/"
   ]
  },
  {
   "cell_type": "markdown",
   "metadata": {
    "collapsed": true
   },
   "source": [
    "## 3 Refresh content from previous modules\n",
    "Use this section with care and make sure that you read the instructions carefully.\n",
    "You can update libraries and refresh data sets without risk, but forcing updates to the notebooks will overwrite any changes you made to the files if you have not changed the file names."
   ]
  },
  {
   "cell_type": "markdown",
   "metadata": {},
   "source": [
    "### 3.1 [No action required] Update libraries and data sources from previous modules"
   ]
  },
  {
   "cell_type": "code",
   "execution_count": null,
   "metadata": {
    "collapsed": true
   },
   "outputs": [],
   "source": [
    "# No previous instructions to repeat at this stage"
   ]
  },
  {
   "cell_type": "markdown",
   "metadata": {},
   "source": [
    "### 3.2 [Optional] Refresh previous notebooks\n",
    "The instructions for uncommenting statements and the process to follow is the same as in section 2.4 of this notebook. Those interested in testing the process can refresh the \"Getting Started\" notebook in the Orientation module.\n",
    "\n",
    "> **Note**:\n",
    "> The statements below will fail if the file already exist and you will need to rename or remove files with the same names in the relevant directories. This is done in order to avoid overwriting changes that you have applied to the various notebooks."
   ]
  },
  {
   "cell_type": "code",
   "execution_count": null,
   "metadata": {
    "collapsed": false
   },
   "outputs": [],
   "source": [
    "# Orientation module\n",
    "\n",
    "# M0_NB1_GettingStarted.ipynb\n",
    "#!svn export https://github.com/getsmarter/bda/trunk/module_0/M0_NB1_GettingStarted.ipynb /home/ubuntu/projects/module_0/"
   ]
  },
  {
   "cell_type": "markdown",
   "metadata": {},
   "source": [
    "## 4. Additional links or resources"
   ]
  },
  {
   "cell_type": "markdown",
   "metadata": {
    "collapsed": true
   },
   "source": [
    "#### Message from your Tutor Group\n",
    "\n",
    "Welcome to the first module of MIT Big Data and Social Analytics.\n",
    "\n",
    "After working through video material and exercises on big data, social physics, data quality, and data privacy, you will work on your practical assessments.\n",
    "\n",
    "We have positioned the practical portion of the course in such a manner that you will be able to complete hands-on activities to extend your theoretical understanding of the content introduced in this course. You will acquire new skills and will be able to download and re-use the notebooks provided to help you get started.\n",
    "\n",
    "Jupyter notebooks facilitates the learning experience by offering the ability to appeal to a wide variety of audiences. Combining data, code, visualizations and formatted text in a single platform can be extremely powerful when you need to communicate with a wide variety of stakeholders. Advanced users will likely find value in specific code sections or libraries utilized, while new users will be provided with functional examples of each of the steps that they will need to complete the exercises. The notebooks can be downloaded and reused after completing the course should you wish to reference the syntax or change the input datasets and perform similar analyses on your own datasets.\n",
    "\n",
    "During the first module we will provide you with three notebooks to introduce you to Python and the basic data analysis libraries. The focus will shift from programming and syntax to the useful examples aligned with the lecture material and additional resources in subsequent modules.\n",
    "\n",
    "**Notebook 1: Python introduction**\n",
    "We will introduce the programming language, Python. There will be some intense learning for non-technical users. Keep in mind that this is not a Python course and we tackle the item that many of you will dread the most first. There is a significant amount of content covered in this notebook, but the exercises are kept to a minimum. In future modules we will provide you with sample scripts where you will need to apply minor changes such as parameter changes, add or change group by clauses and in some cases combine sections of code to produce the desired results. The intention of the first notebook is to provide you with enough background in order to be able to perform these activities.\n",
    "\n",
    "**Notebook 2: Data analysis basics**\n",
    "This notebook will introduce some of the libraries and concepts that you will utilize in future. The examples are based on examples from Python documentation, the specific libraries utilized or in some cases on datasets that you will encounter in future modules. They demonstrate specific tasks and provide you with reference links where you can obtain additional information should you wish to explore additional options.\n",
    "\n",
    "**Notebook 3: Data considerations**\n",
    "Once you have mastered a task, you will have the ability to make it seem effortless to others. In this notebook we try to guide you through a very basic example where we start with a basic dataset, perform some transformations, utilize libraries to retrieve external information and then visualize the information. While the task performed is very basic, we hope to bring the concept of how powerful the combination of data, a rich community of libraries and visualization options within a single document can be if utilized correctly. We would urge users who have performed this type of action previously to think about the amount of tools and resources they required to both perform the action and communicate the results to their intended target audiences.\n",
    "\n",
    "Please engage with the tutor team in the forums when you get stuck or when you learn something that you think is really useful.\n",
    "\n",
    "We sincerely hope that you enjoy this course and acquire skills that is of use to you in your personal journey.\n"
   ]
  },
  {
   "cell_type": "code",
   "execution_count": null,
   "metadata": {
    "collapsed": true
   },
   "outputs": [],
   "source": []
  }
 ],
 "metadata": {
  "kernelspec": {
   "display_name": "Python 2",
   "language": "python",
   "name": "python2"
  },
  "language_info": {
   "codemirror_mode": {
    "name": "ipython",
    "version": 2
   },
   "file_extension": ".py",
   "mimetype": "text/x-python",
   "name": "python",
   "nbconvert_exporter": "python",
   "pygments_lexer": "ipython2",
   "version": "2.7.11"
  }
 },
 "nbformat": 4,
 "nbformat_minor": 0
}
