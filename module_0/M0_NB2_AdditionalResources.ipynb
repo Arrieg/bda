{
 "cells": [
  {
   "cell_type": "markdown",
   "metadata": {},
   "source": [
    "<div align=\"right\">Python 2.7 Jupyter Notebook</div>"
   ]
  },
  {
   "cell_type": "markdown",
   "metadata": {},
   "source": [
    "# Refreshing your virtual analysis environment and additional resources"
   ]
  },
  {
   "cell_type": "markdown",
   "metadata": {},
   "source": [
    "### Introduction\n",
    "\n",
    "We will release content at the start of each module and you will need to visit this notebook before starting a new module.\n",
    "In the first step you will update the notebook itself. After refreshing the page (F5) additional instructions will be visible in the remainder of the Notebook.\n",
    "\n",
    "Please remember that we will **force an update** and that any changes you make to this notebook will be lost when you refresh the notebook. Should you make any changes that you want to keep, please save the notebook under a different file name. Please make sure that you download copies of all the notebooks that you have changed and need to keep to your local device."
   ]
  },
  {
   "cell_type": "markdown",
   "metadata": {},
   "source": [
    "## 1. Update this notebook\n",
    "### 1.1 Update this notebook (M2_NB2_AdditionalResources)\n",
    "\n",
    "<br>\n",
    "<div class=\"alert alert-warning\">\n",
    "<b>Execute the cell below.</b>\n",
    "</div>"
   ]
  },
  {
   "cell_type": "code",
   "execution_count": null,
   "metadata": {
    "collapsed": false,
    "scrolled": true
   },
   "outputs": [],
   "source": [
    "## Forced update of M0_NB2_AdditionalResources.ipynb\n",
    "!svn export https://github.com/getsmarter/bda/trunk/module_0/M0_NB2_AdditionalResources.ipynb /home/ubuntu/projects/module_0/ --force"
   ]
  },
  {
   "cell_type": "markdown",
   "metadata": {},
   "source": [
    "You should see:\n",
    "> `A    M0_NB2_AdditionalResources.ipynb`\n",
    "\n",
    "> `Export complete.`"
   ]
  },
  {
   "cell_type": "markdown",
   "metadata": {},
   "source": [
    "### 1.2 Refresh this page in your browser to reflect changes in the notebook. \n",
    "Press F5 or manually refresh this page. You should see a cell with the latest module available below."
   ]
  },
  {
   "cell_type": "markdown",
   "metadata": {},
   "source": [
    "Status: <font color='green'><b>Module 2 content added - Version 1.00.</b></font>"
   ]
  },
  {
   "cell_type": "markdown",
   "metadata": {},
   "source": [
    "> **NOTE to non-technical users**:\n",
    "\n",
    "> We utilise this mechanism to avoid additional effort on your behalf to update and refresh your environment. The process has been designed to ensure that you can select and run all the cells below and you do not need to understand the detail of the steps completed. Optional items will be marked clearly.\n",
    "\n",
    "> When executing the commands, you only need to review the status messages that appear below the cells that you execute. We do not want to overwrite changes that you have made to files and apart from this notebook, our process will not overwrite any files that already exist in the various directories. Should you receive an error message that the file already exist, you will need to manually remove or rename existing files before coming back to this notebook and resuming the process from the point where you received the error."
   ]
  },
  {
   "cell_type": "markdown",
   "metadata": {},
   "source": [
    "## 2. Additional resources - Module 2\n",
    "**Please read the instructions that we provide carefully and proceed to execute all cells not specifically marked as optional.**\n",
    "\n",
    "This week we will:\n",
    "- Install additional libraries.\n",
    "- Load data sources and additional files required.\n",
    "- Load the notebooks required.\n",
    "\n",
    "Should you receive error messages which you are not able to resolve with the guidelines below, please reach out to technical support to assist you."
   ]
  },
  {
   "cell_type": "markdown",
   "metadata": {},
   "source": [
    "### 2.1 Install additional libraries\n",
    "> **Info**:\n",
    "\n",
    "> You can install additional libraries in your command line or directly from a notebook.\n",
    "This section is used to update your virtual analysis environment by installing the libraries that you will require to complete the exercises.\n",
    "It is possible to install additional libraries, but we strongly encourage students not to install additional libraries while the course is in progress to ensure that your environment remains stable."
   ]
  },
  {
   "cell_type": "markdown",
   "metadata": {},
   "source": [
    "#### 2.1.1 Pandas datareader\n",
    "\n",
    "<br>\n",
    "<div class=\"alert alert-warning\">\n",
    "<b>Execute the cell below.</b>\n",
    "</div>"
   ]
  },
  {
   "cell_type": "code",
   "execution_count": null,
   "metadata": {
    "collapsed": false
   },
   "outputs": [],
   "source": [
    "!pip install --target=/home/ubuntu/.local/lib/python2.7/site-packages pandas-datareader"
   ]
  },
  {
   "cell_type": "markdown",
   "metadata": {},
   "source": [
    "You should see a message that containing \"Successfully installed numpy pandas pandas-datareader python-dateutil...\" close to the end and can confirm that pandas-datareader is available by executing the cell below. There will be no output if the cell is executed successfully. It will produce an error message if the library was not installed correctly and is therefore not available to your notebook server."
   ]
  },
  {
   "cell_type": "code",
   "execution_count": null,
   "metadata": {
    "collapsed": false
   },
   "outputs": [],
   "source": [
    "import pandas_datareader"
   ]
  },
  {
   "cell_type": "markdown",
   "metadata": {},
   "source": [
    "#### 2.1.2 Wikipedia\n",
    "\n",
    "<br>\n",
    "<div class=\"alert alert-warning\">\n",
    "<b>Execute the cell below.</b>\n",
    "</div>"
   ]
  },
  {
   "cell_type": "code",
   "execution_count": null,
   "metadata": {
    "collapsed": false,
    "scrolled": true
   },
   "outputs": [],
   "source": [
    "!pip install --target=/home/ubuntu/.local/lib/python2.7/site-packages wikipedia"
   ]
  },
  {
   "cell_type": "markdown",
   "metadata": {},
   "source": [
    "You should see a message containing \"Successfully installed beautifulsoup4 requests-2.10.0 wikipedia\" close to the end and can confirm that wikipedia is available by executing the cell below. Similar to the comment regarding pandas-datareader, no output for the cell below is good news as it means that wikipedia has been installed correctly and is available to your notebook server."
   ]
  },
  {
   "cell_type": "code",
   "execution_count": null,
   "metadata": {
    "collapsed": true
   },
   "outputs": [],
   "source": [
    "import wikipedia"
   ]
  },
  {
   "cell_type": "markdown",
   "metadata": {},
   "source": [
    "#### 2.1.3 Bandicoot\n",
    "\n",
    "<br>\n",
    "<div class=\"alert alert-warning\">\n",
    "<b>Execute the cell below.</b>\n",
    "</div>"
   ]
  },
  {
   "cell_type": "code",
   "execution_count": null,
   "metadata": {
    "collapsed": false
   },
   "outputs": [],
   "source": [
    "!pip install --target=/home/ubuntu/.local/lib/python2.7/site-packages bandicoot"
   ]
  },
  {
   "cell_type": "markdown",
   "metadata": {},
   "source": [
    "You should see a message ending with \"Successfully installed bandicoot\" and can confirm that bandicoot is available by executing the cell below. No output for the cell below is good news as it means that bandicoot has been installed correctly and is available to your notebook server."
   ]
  },
  {
   "cell_type": "code",
   "execution_count": null,
   "metadata": {
    "collapsed": true
   },
   "outputs": [],
   "source": [
    "import bandicoot"
   ]
  },
  {
   "cell_type": "markdown",
   "metadata": {},
   "source": [
    "That's it for libraries. Lets move to populating data sets and other supporting files."
   ]
  },
  {
   "cell_type": "markdown",
   "metadata": {},
   "source": [
    "### 2.2 Data Sources and supporting files for Module 2\n",
    "You should execute the cell below and will see a line containing the status for each statement.\n",
    "This action should be performed once. Subsequent attempts to execute the cell will fail as the files will already exist. Should you wish to refresh the files, you will need to manually remove the files from the \"module_2\" directory before executing the cell again."
   ]
  },
  {
   "cell_type": "markdown",
   "metadata": {},
   "source": [
    "> A large number of files will be uploaded to your virtual analysis environment by the code block below and this may take some time. The \"In[*]\" will change to \"In[Number]\" and the last two lines of the output message will indicate that the file \"bc_visualization_screenshot.png\" export has completed. "
   ]
  },
  {
   "cell_type": "markdown",
   "metadata": {},
   "source": [
    "<br>\n",
    "<div class=\"alert alert-warning\">\n",
    "<b>Execute the cell below to update data sets and images required for Module 2.</b><br>Please be patient as londing the data files to your environment can take a couple of minutes. Once the cell indicator changes to a number and you see the last line, \"bc_visualization_screenshot.png export has completed\", you can continue to the next cell.\n",
    "</div>"
   ]
  },
  {
   "cell_type": "code",
   "execution_count": null,
   "metadata": {
    "collapsed": false
   },
   "outputs": [],
   "source": [
    "# Project data directory.\n",
    "# We refresh the data directory to contain the files you require for the exercise using the force option to ensure\n",
    "#    that you have a clean dataset to start your exercises.\n",
    "!svn export https://github.com/getsmarter/bda/trunk/data/ /home/ubuntu/projects/data/ --force\n",
    "\n",
    "# Additional data files for module 2\n",
    "!svn export https://github.com/getsmarter/bda/trunk/module_2/data/ /home/ubuntu/projects/module_2/data/\n",
    "    \n",
    "# Images rendered in notebooks in module 2.\n",
    "!svn export https://github.com/getsmarter/bda/trunk/module_2/Upload_01.png /home/ubuntu/projects/module_2/\n",
    "!svn export https://github.com/getsmarter/bda/trunk/module_2/bc_visualization_screenshot.png /home/ubuntu/projects/module_2/"
   ]
  },
  {
   "cell_type": "markdown",
   "metadata": {
    "collapsed": true
   },
   "source": [
    "### 2.3 Notebooks for Module 2\n",
    "> **Info**:\n",
    "\n",
    "> When executing the cell below you will see a status message for each of the lines.\n",
    "The status will either be that \"the destination file exists and will not be overridden unless forced\" or \"export complete\". The first message means that the notebook has not been refreshed and you will need to go to the relevant directory and change the filename or remove the file before retrying to refresh. The second means that a copy of the file has been uploaded to your virtual analysis environment.\n",
    "\n",
    "Your directory will not contain any notebooks when you execute this command the first time and it should complete with three messages indicating \"export complete\".\n",
    "\n",
    "<br>\n",
    "<div class=\"alert alert-warning\">\n",
    "<b>Execute the cell below to update notebooks for Module 2.</b>\n",
    "</div>"
   ]
  },
  {
   "cell_type": "code",
   "execution_count": null,
   "metadata": {
    "collapsed": false
   },
   "outputs": [],
   "source": [
    "# Add Module 2 Notebooks 1-3 to your virtual analysis environment\n",
    "!svn export https://github.com/getsmarter/bda/trunk/module_2/M2_NB1_SourcesOfData.ipynb /home/ubuntu/projects/module_2/\n",
    "!svn export https://github.com/getsmarter/bda/trunk/module_2/M2_NB2_FunFIntroduction.ipynb /home/ubuntu/projects/module_2/\n",
    "!svn export https://github.com/getsmarter/bda/trunk/module_2/M2_NB3_CollectYourOwnData.ipynb /home/ubuntu/projects/module_2/"
   ]
  },
  {
   "cell_type": "markdown",
   "metadata": {},
   "source": [
    "### 2.4 Refresh specific notebooks [OPTIONAL] \n",
    "In cases where you have made changes to the notebook and wish to return the notebook to its original state, you will have to ensure that there are no files with the original names in the \"module_2\" directory.\n",
    "\n",
    "> **Info**:\n",
    "\n",
    "> You only need to look at this section if you wish to refresh specific notebooks to their original state.\n",
    "\n",
    "The three files previously created by in the \"module_0\" directory that you may wish to refresh are:\n",
    "- M2_NB1_SourcesOfData.ipynb\n",
    "- M2_NB2_FunFIntroduction.ipynb\n",
    "- M2_NB3_CollectYourOwnData.ipynb\n",
    "\n",
    "You can rename or remove the existing files in the directory and then uncomment the relevant line or lines below to refresh your environment.\n",
    "\n",
    "> ** Note**: \n",
    "\n",
    "> Statements in code blocks that start with # are viewed as comments and is not executed when running the cell."
   ]
  },
  {
   "cell_type": "code",
   "execution_count": null,
   "metadata": {
    "collapsed": true
   },
   "outputs": [],
   "source": [
    "# Uncomment the line below to refresh M2_NB1_SourcesOfData.ipynb\n",
    "#!svn export https://github.com/getsmarter/bda/trunk/module_2/M2_NB1_SourcesOfData.ipynb /home/ubuntu/projects/module_2/\n",
    "\n",
    "# Uncomment the line below to refresh M2_NB2_FunFIntroduction.ipynb\n",
    "#!svn export https://github.com/getsmarter/bda/trunk/module_2/M2_NB2_FunFIntroduction.ipynb /home/ubuntu/projects/module_2/\n",
    "\n",
    "# Uncomment the line below to refresh M2_NB3_CollectYourOwnData.ipynb\n",
    "#!svn export https://github.com/getsmarter/bda/trunk/module_2/M2_NB3_CollectYourOwnData.ipynb /home/ubuntu/projects/module_2/"
   ]
  },
  {
   "cell_type": "markdown",
   "metadata": {
    "collapsed": true
   },
   "source": [
    "## 3 Refresh content from previous modules\n",
    "Use this section with care and make sure that you read the instructions carefully.\n",
    "You can update libraries and refresh data sets without risk, but forcing updates to the notebooks will overwrite any changes you made to the files if you have not changed the file names."
   ]
  },
  {
   "cell_type": "markdown",
   "metadata": {},
   "source": [
    "### 3.1 Update libraries and data sources from previous modules [OPTIONAL]\n",
    "> **Info**:\n",
    "\n",
    "> You should not need to revisit this section. In cases where you need to reinstall specific libraries or where you did not execute the statements during previous modules, you will have to uncomment the update statements and execute the cell below."
   ]
  },
  {
   "cell_type": "code",
   "execution_count": null,
   "metadata": {
    "collapsed": true
   },
   "outputs": [],
   "source": [
    "#M1 libraries\n",
    "#!pip install --target=/home/ubuntu/.local/lib/python2.7/site-packages folium\n",
    "#!pip install --target=/home/ubuntu/.local/lib/python2.7/site-packages geocoder"
   ]
  },
  {
   "cell_type": "markdown",
   "metadata": {},
   "source": [
    "### 3.2 Refresh previous notebooks [OPTIONAL]\n",
    "The instructions for uncommenting statements and the process to follow is the same as in section 2.4 of this notebook. Those interested in testing the process can refresh the \"Getting Started\" notebook in the Orientation module.\n",
    "\n",
    "> **Note**:\n",
    "> The statements below will fail if the file already exist and you will need to rename or remove files with the same names in the relevant directories. This is done in order to avoid overwriting changes that you have applied to the various notebooks."
   ]
  },
  {
   "cell_type": "code",
   "execution_count": null,
   "metadata": {
    "collapsed": false
   },
   "outputs": [],
   "source": [
    "# Orientation module\n",
    "#!svn export https://github.com/getsmarter/bda/trunk/module_0/M0_NB1_GettingStarted.ipynb /home/ubuntu/projects/module_0/\n",
    "\n",
    "# Module 1\n",
    "#!svn export https://github.com/getsmarter/bda/trunk/module_1/M1_NB1_PythonIntro.ipynb /home/ubuntu/projects/module_1/\n",
    "#!svn export https://github.com/getsmarter/bda/trunk/module_1/M1_NB2_DataAnalysisBasics.ipynb /home/ubuntu/projects/module_1/\n",
    "#!svn export https://github.com/getsmarter/bda/trunk/module_1/M1_NB3_DataConsiderations.ipynb /home/ubuntu/projects/module_1/"
   ]
  },
  {
   "cell_type": "markdown",
   "metadata": {},
   "source": [
    "## 4. Additional links or resources"
   ]
  },
  {
   "cell_type": "markdown",
   "metadata": {
    "collapsed": true
   },
   "source": [
    "#### Message from your Tutor Group\n",
    "\n",
    "Welcome to the second module of MIT Big Data and Social Analytics.\n",
    "\n",
    "After working through video material and exercises on personal sensors and human behavior, you will work on your practical assessments.\n",
    "\n",
    "Those of you who have no or little Python backgrounds, would have had a challenging learning experience in the first module. This module starts to shift away from programming and syntax while making sure that we reinforce the steps that you would use frequently.\n",
    "\n",
    "During the second module we provide you with three notebooks where we start applying Python tools to to explore the data sets provided and demonstrate some of the basic data exploration and data wrangling techniques.\n",
    "\n",
    "**Notebook 1: Sources of data**\n",
    "This notebook revisits some of the concepts around sources of data. In the module 1 notebook, Python basics, we briefly demonstrated loading CSV files, parsing JSON strings and connecting to databases. In this notebook we extend the range op options by sourcing data from web resources using Python libraries without first creating a manual dataset (such as a .csv extract). These type of techniques can be extremely helpful in speeding up the exploration phase of your analysis, but you should always remain aware of the risks associated with public data sources. \n",
    "\n",
    "**Notebook 2: Funf Introduction**\n",
    "This notebook will introduce some of the typical sensor data sets that can be generated using Funf. We demonstrate examples using call and SMS datasets from the MIT Friends and Family study and perform similar activities on location data from the Dartmouth StudentLife study.\n",
    "\n",
    "**Notebook 3: Collect your own data**\n",
    "This notebook introduces concepts around building applications using Funf. You are provided with links to the core libraries should you be interested in building your own applications and we briefly introduce the Bandicoot application, which students with access to Android devices can utilize to quickly generate a dataset from their personal data. Students are encouraged to use either their own, or that of fellow students when executing the example scripts provided.\n",
    "\n",
    "Please engage with the tutor team in the forums when you get stuck or when you learn something that you think is really useful.\n",
    "\n",
    "We sincerely hope that you enjoy this course and acquire skills that is of use to you in your personal journey.\n"
   ]
  },
  {
   "cell_type": "code",
   "execution_count": null,
   "metadata": {
    "collapsed": true
   },
   "outputs": [],
   "source": []
  }
 ],
 "metadata": {
  "kernelspec": {
   "display_name": "Python 2",
   "language": "python",
   "name": "python2"
  },
  "language_info": {
   "codemirror_mode": {
    "name": "ipython",
    "version": 2
   },
   "file_extension": ".py",
   "mimetype": "text/x-python",
   "name": "python",
   "nbconvert_exporter": "python",
   "pygments_lexer": "ipython2",
   "version": "2.7.11"
  }
 },
 "nbformat": 4,
 "nbformat_minor": 0
}
