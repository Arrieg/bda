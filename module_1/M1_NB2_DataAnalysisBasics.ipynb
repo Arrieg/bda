{
 "cells": [
  {
   "cell_type": "markdown",
   "metadata": {},
   "source": [
    "<div align=\"right\">Python 2.7 Jupyter Notebook</div>"
   ]
  },
  {
   "cell_type": "markdown",
   "metadata": {
    "collapsed": true
   },
   "source": [
    "# Data Analysis Basics"
   ]
  },
  {
   "cell_type": "markdown",
   "metadata": {},
   "source": [
    "### Your completion of the Notebook exercises will be graded based on your ability to:\n",
    "\n",
    "> **Understand**: Does your pseudo-code and/or comments show evidence that you recall and understand technical concepts?\n",
    "\n",
    "> **Apply**: Are you able to execute code, using the supplied examples, that perform the required functionality on supplied or generated data sets? \n",
    "\n",
    "> **Analyze**: Are you able to pick the relevant method, library or resolve specific stated questions?\n",
    "\n",
    "> **Evaluate**: Are you able to interpret the results and justify your interpretation based on the observed data?\n",
    "\n",
    "> **Create**: Your ability to produce notebooks that serve as computational record of a session that can be used to share your insights with others? "
   ]
  },
  {
   "cell_type": "markdown",
   "metadata": {},
   "source": [
    "# Notebook introduction\n",
    "\n",
    "When you create notebooks or other documents it is generally a good idea to continually document your progress and provide descriptions of the dataset as well as your observations. This makes it easier to revisit your work at a later stage or share it with other parties. This notebook will provide you with the opportunity to explore the given dataset on your own, as you would in a real-world data analysis setting.\n",
    "\n",
    "We will introduce a number of techniques and best practices that you may utilize in later modules."
   ]
  },
  {
   "cell_type": "markdown",
   "metadata": {},
   "source": [
    "> **Note**: \n",
    "\n",
    "> We strongly recommend that you save a checkpoint after applying significant changes or completing exercises. This allows you to return the notebook to a previous state should you wish to do so. On the Jupyter menu, select \"File\", then \"Save and Checkpoint\" from the dropdown menu that appears."
   ]
  },
  {
   "cell_type": "markdown",
   "metadata": {},
   "source": [
    "#### Load the relevant libraries and set options\n",
    "When performing analysis tasks you can load the libraries as you need them in various places in the notebook. Many users have a standard set of libraries and settings that are used frequently. Starting your notebook with a section containing all the libraries that you use makes it easier to check that all the elements have been installed should you choose to share the notebook with others, or intend to run the notebook on different machines. You can always revisit and re-execute this section of your notebook at a later stage if you realize that you need to load additional libraries."
   ]
  },
  {
   "cell_type": "code",
   "execution_count": null,
   "metadata": {
    "collapsed": false
   },
   "outputs": [],
   "source": [
    "# Load the libraries that you will require in this notebook\n",
    "from os import path\n",
    "import numpy as np\n",
    "import pandas as pd\n",
    "from matplotlib.pyplot import figure, show, rc\n",
    "import matplotlib.pyplot as plt\n",
    "import matplotlib.mlab as mlab\n",
    "\n",
    "# Set plotting options\n",
    "%pylab inline\n",
    "pylab.rcParams['figure.figsize'] = (10, 8)"
   ]
  },
  {
   "cell_type": "markdown",
   "metadata": {},
   "source": [
    "> **Note**:\n",
    "\n",
    "> The libraries utilized in this notebook are included with the Anaconda Python distribution and you should not receive any errors when executing the section above. In subsequent notebooks and modules you will make use of libraries that do not come preinstalled in Anaconda. These additional libraries were either pre-installed on the image you used in the setup of your virtual analysis environment, or installed during the preparation phases of the various modules. Installing Anaconda on your own workstation is not encouraged during this course as there are too many factors to account for in standardizing the analysis environment."
   ]
  },
  {
   "cell_type": "markdown",
   "metadata": {},
   "source": [
    "## 1. Phases of Analysis\n",
    "\n",
    "In Video 3, David Shrier provided an overview of the phases of data analysis, as can be seen below:\n",
    "\n",
    "![Phases of Data Analysis](m1_f1_data_analysis.PNG \"This image shows the phases of the data analysis cycle.\")\n",
    "#### Figure 1: Phases of data analysis\n",
    "\n",
    "Some of the phases will be demonstrated in this notebook and it is good to know that you have various methods available to document your interactive computing session. You can utilize code, traditional comments in code blocks and a wide array of data input, processing and output tools to perform your analysis and document your process. Markdown cells, which will be introduced in more detail in the next notebook, can also be utilized to provide instructions, format text and embed images in order to convey your message to your intended target audience. "
   ]
  },
  {
   "cell_type": "markdown",
   "metadata": {},
   "source": [
    "### 1.1 Example: Generate a polar plot to indicate the typical analytical journey\n",
    "\n",
    "To demonstrate the efficiency of visual communication, we have selected a polar plot to be used as a basis from which to communicate a concept. The graph values do not have any meaning or relevance apart from demonstrating the concept that the typical analysis cycle is usually iterative and converges on a result."
   ]
  },
  {
   "cell_type": "code",
   "execution_count": null,
   "metadata": {
    "collapsed": false
   },
   "outputs": [],
   "source": [
    "# Generate input data\n",
    "\n",
    "# Numpy array with minimum, maximum and increment specified\n",
    "# Change the maximum from 2.0 to 4.0 to simulate a longer analytic journey\n",
    "r = np.arange(0, 2.0, 0.01) \n",
    "\n",
    "# Utilize Numpy constant Pi\n",
    "theta = 2*np.pi*r\n",
    "\n",
    "# Set plotting options and plot\n",
    "fig = figure(figsize=(8, 8))\n",
    "ax = fig.add_axes([0.1, 0.1, 0.8, 0.8], projection='polar', axisbg='#d3d3d3')\n",
    "ax.plot(theta, r, color='r', lw=3, label='Analysis Cycle')\n",
    "ax.set_xticklabels(['**Data Analysis Phases**', 'Intervention', 'Interpretation', 'Visualization', 'Analysis', 'Hygiene', 'Pre-Processing', 'Collection'])\n",
    "ax.set_theta_zero_location('N')\n",
    "ax.axes.get_yaxis().set_ticks([])\n",
    "ax.legend()\n",
    "show()"
   ]
  },
  {
   "cell_type": "markdown",
   "metadata": {},
   "source": [
    "### 2. The 5 Rs of Data Quality\n",
    "In video 4 David Shrier discussed the 5 Rs of data quality. The following sections of this notebook will demonstrate sample scripts that can be utilized to quickly look at your data in terms of the defined qualities. You will get the opportunity to start exploring and performing basic manipulations on provided datasets and will be introduced to concepts to keep in mind when working with data.\n",
    "\n",
    "![5 R's of Data Quality](m1_f2_dq_5r.PNG \"This image shows the 5 R's of data quality.\")\n",
    "\n",
    "> **Note**:\n",
    "\n",
    "> Remember that context matters. When performing analysis you have to critically evaluate whether the data quality is adequate for the type of problem that you are trying to solve for. "
   ]
  },
  {
   "cell_type": "markdown",
   "metadata": {
    "collapsed": false
   },
   "source": [
    "### 2.1 Loading data\n",
    "\n",
    "Before you continue with the following section, please make sure that you visit [Dartmouth StudentLife](http://studentlife.cs.dartmouth.edu/dataset.html), and review the \"Introduction\" and \"Citation\" paragraphs to familiarize yourself with the privacy statements.\n",
    "\n",
    "> **Note**:\n",
    "\n",
    "> The datasets that you will start to use in this section will be utilized again in future modules and notebooks.\n",
    "\n",
    "There are multiple options for loading \".csv\" files. In the previous notebook, we introduced the [CSV](https://docs.python.org/2/library/csv.html) library for loading csv files. In this notebook you will use a similar function titled [read_csv](http://pandas.pydata.org/pandas-docs/stable/generated/pandas.read_csv.html) from the Pandas library."
   ]
  },
  {
   "cell_type": "code",
   "execution_count": null,
   "metadata": {
    "collapsed": false
   },
   "outputs": [],
   "source": [
    "# Load a specified file to a Pandas dataframe\n",
    "gps = pd.read_csv('gps_u02.csv')"
   ]
  },
  {
   "cell_type": "markdown",
   "metadata": {},
   "source": [
    "### 2.2 Inspecting the data\n",
    "The first step is to visually inspect the new data set. There are multiple options to achieve this, the easiest being to request the \"head\" to be returned with an optional argument that specifies the number of records."
   ]
  },
  {
   "cell_type": "code",
   "execution_count": null,
   "metadata": {
    "collapsed": false
   },
   "outputs": [],
   "source": [
    "# Review the data with \"head()\"\n",
    "# gps.head(3) will return 3 records\n",
    "# gps.tail() will return the records from the end of the dataset\n",
    "gps.head()"
   ]
  },
  {
   "cell_type": "markdown",
   "metadata": {},
   "source": [
    "The `info()` and `describe()` methods can also be utilized to provide additional information about the dataset."
   ]
  },
  {
   "cell_type": "code",
   "execution_count": null,
   "metadata": {
    "collapsed": false
   },
   "outputs": [],
   "source": [
    "# Review data types with \"info()\"\n",
    "gps.info()"
   ]
  },
  {
   "cell_type": "code",
   "execution_count": null,
   "metadata": {
    "collapsed": false
   },
   "outputs": [],
   "source": [
    "# Review numeric data with \"describe()\"\n",
    "gps.describe()"
   ]
  },
  {
   "cell_type": "markdown",
   "metadata": {},
   "source": [
    "We can manipulate the dataframes or create new dataframes that contain subsets of the data."
   ]
  },
  {
   "cell_type": "code",
   "execution_count": null,
   "metadata": {
    "collapsed": false
   },
   "outputs": [],
   "source": [
    "# Create a new dataframe containing the count of records grouped by provider\n",
    "group_provider = gps.groupby(['provider']).count().reset_index()\n",
    "\n",
    "# Display the dataframe\n",
    "group_provider"
   ]
  },
  {
   "cell_type": "markdown",
   "metadata": {
    "collapsed": false,
    "scrolled": true
   },
   "source": [
    "The Pandas [groupby()](http://pandas.pydata.org/pandas-docs/stable/generated/pandas.DataFrame.groupby.html) method can accept a list of arguments. The syntax is \"DataFrame.groupby(['element 1', 'element 2'])\""
   ]
  },
  {
   "cell_type": "markdown",
   "metadata": {},
   "source": [
    "### Your turn:\n",
    "\n",
    "Update the \"grouped\" variable to add \"travelstate\" to the groupby list.\n",
    "Don't worry, you can scroll down to the bottom of the notebook if you get stuck on syntax."
   ]
  },
  {
   "cell_type": "code",
   "execution_count": null,
   "metadata": {
    "collapsed": false
   },
   "outputs": [],
   "source": [
    "# Change the line below to add \"travelstate\" to the groupby statement\n",
    "grouped = gps.groupby(['network_type']).count()\n",
    "# Display the new variable\n",
    "grouped"
   ]
  },
  {
   "cell_type": "markdown",
   "metadata": {},
   "source": [
    "> **Exercise complete**:\n",
    "    \n",
    "> This is a good time to \"Save and Checkpoint\"."
   ]
  },
  {
   "cell_type": "markdown",
   "metadata": {
    "collapsed": false
   },
   "source": [
    "**Histograms** can be utilized to quickly compare subsets of the data. Let's look at the number of observations over time by provider."
   ]
  },
  {
   "cell_type": "code",
   "execution_count": null,
   "metadata": {
    "collapsed": false
   },
   "outputs": [],
   "source": [
    "# Let's look at the observations or rows over time per provider as histograms\n",
    "gps['time'].hist(by=gps['provider'])"
   ]
  },
  {
   "cell_type": "markdown",
   "metadata": {},
   "source": [
    "The \"hist()\" method provides a very quick way of producing plots, but is limited in the options that can be specified. The plots produced above are good for visualizing the distribution of records over time, but have different scales on the y-axis and it is easy to misinterpret the results. You will be introduced to Matplotlib later in this notebook which offers more configuration options."
   ]
  },
  {
   "cell_type": "markdown",
   "metadata": {},
   "source": [
    "### 2.3 Recap\n",
    "\n",
    "These are important questions to keep in mind when considering the five Rs:\n",
    "\n",
    "**Relevancy**\n",
    "- Is the data relevant to the problem that I am working with?\n",
    "- Which features and values exist in the data set?\n",
    "- Does it account for all types of use or is this a fractional view only? If it is a fraction, is it representative of the full population?<br>\n",
    "\n",
    "**Recency**\n",
    "- How recently was the data generated?\n",
    "- Is the first or last record part of a consistent pattern or does the granularity change over time?\n",
    "- Do I have dirty data (for example, dates that are later than the observation or point of producing the dataset) that skews my recency checks?\n",
    "\n",
    "**Range**\n",
    "- How narrow or wide is the scope of my data?\n",
    "\n",
    "**Robustness**\n",
    "- How robust is my data - what is the signal to noise ratio?\n",
    "\n",
    "**Reliability**\n",
    "- How accurate is the data that you are working with (for example, sensor vs survey data)?"
   ]
  },
  {
   "cell_type": "markdown",
   "metadata": {},
   "source": [
    "<br>Here are a few additional examples to get you started."
   ]
  },
  {
   "cell_type": "markdown",
   "metadata": {},
   "source": [
    "### 2.4 Additional examples\n",
    "\n",
    "No actions are required from your side in this section. It is purely to demonstrate sample code which you can reference at a later stage should you need examples of syntax."
   ]
  },
  {
   "cell_type": "markdown",
   "metadata": {},
   "source": [
    "#### 2.4.1 Example: Date range and data density"
   ]
  },
  {
   "cell_type": "markdown",
   "metadata": {},
   "source": [
    "Generate the dataset to be utilized in this example. The details are not important at this stage."
   ]
  },
  {
   "cell_type": "code",
   "execution_count": null,
   "metadata": {
    "collapsed": false
   },
   "outputs": [],
   "source": [
    "# Create Pandas date range with starting date, number of periods and frequency as input arguments\n",
    "r1 = pd.date_range('2014/01/01', periods=12, freq='M')\n",
    "r2 = pd.date_range('2015/01/01', periods=365, freq='D')\n",
    "r3 = pd.date_range('2015/01/01', periods=365, freq='D')\n",
    "r4 = pd.date_range('2015/01/01', periods=365, freq='D')\n",
    "r5 = pd.date_range('2016/01/01', periods=6, freq='M')\n",
    "\n",
    "# Create a list containing all the date ranges\n",
    "r = r1.append(r2).append(r3).append(r4).append(r5)\n",
    "\n",
    "# Convert the list to a series with random values using the Numpy random function indexed by date\n",
    "ts = pd.Series(np.random.randn(len(r)), index=r)\n",
    "\n",
    "# Display the head of the series\n",
    "ts.head()"
   ]
  },
  {
   "cell_type": "code",
   "execution_count": null,
   "metadata": {
    "collapsed": false
   },
   "outputs": [],
   "source": [
    "# display the type of the variable\n",
    "type(ts)"
   ]
  },
  {
   "cell_type": "code",
   "execution_count": null,
   "metadata": {
    "collapsed": false
   },
   "outputs": [],
   "source": [
    "# Show summary statistics of numeric data\n",
    "ts.describe()"
   ]
  },
  {
   "cell_type": "markdown",
   "metadata": {},
   "source": [
    "When performing recency checks, one is often tempted to only retrieve the latest record."
   ]
  },
  {
   "cell_type": "code",
   "execution_count": null,
   "metadata": {
    "collapsed": false
   },
   "outputs": [],
   "source": [
    "# Return the min and max date\n",
    "print ts.index.min()\n",
    "print ts.index.max()"
   ]
  },
  {
   "cell_type": "markdown",
   "metadata": {},
   "source": [
    "In some cases the minimum and maximum values do not tell you the full story and you may need to dig a bit deeper to better understand the data set. In the generated data set there is a difference in granularity with more frequent observations during 2015 than in 2014 and 2016. \n",
    "\n",
    "Depending on the type of analysis you are performing you may choose to:\n",
    "- Work with the dataset as is;\n",
    "- Work with a subset of the data; or\n",
    "- Resample the data (Advanced)."
   ]
  },
  {
   "cell_type": "code",
   "execution_count": null,
   "metadata": {
    "collapsed": false,
    "scrolled": true
   },
   "outputs": [],
   "source": [
    "# Review the date distribution of the data graphically\n",
    "ts.plot(title=\"Observations\",figsize=[12,5])"
   ]
  },
  {
   "cell_type": "markdown",
   "metadata": {},
   "source": [
    "The plot shows a higher density of observations during 2015. A new series will now be created which contains a subset of the original series that contains data from 2015. Please refer to the links to read more about Pandas methods, [Slicing ranges](http://pandas.pydata.org/pandas-docs/stable/indexing.html#slicing-ranges) and [Selection by Position](http://pandas.pydata.org/pandas-docs/stable/indexing.html#selection-by-position)."
   ]
  },
  {
   "cell_type": "code",
   "execution_count": null,
   "metadata": {
    "collapsed": false
   },
   "outputs": [],
   "source": [
    "# Create a new data frame, tsc, containing the subset of 2015 data and print the minimum and maximum values\n",
    "tsc = ts.loc['2015-1-1':'2015-12-31']\n",
    "print tsc.index.min()\n",
    "print tsc.index.max()"
   ]
  },
  {
   "cell_type": "code",
   "execution_count": null,
   "metadata": {
    "collapsed": false
   },
   "outputs": [],
   "source": [
    "# Plot the new dataset\n",
    "tsc.plot(title=\"Observations\",figsize=[12,5])"
   ]
  },
  {
   "cell_type": "markdown",
   "metadata": {
    "collapsed": false
   },
   "source": [
    "#### 2.4.2 Example: Histogram of a normal distribution with a best fit line"
   ]
  },
  {
   "cell_type": "code",
   "execution_count": null,
   "metadata": {
    "collapsed": false
   },
   "outputs": [],
   "source": [
    "# example data\n",
    "mu = 100  # mean of distribution\n",
    "sigma = 15  # standard deviation of distribution\n",
    "x = mu + sigma * np.random.randn(100000) # generate 100 000 data points\n",
    "num_bins = 50 # set the number of bins\n",
    "\n",
    "# create histogram and best fit line\n",
    "n, bins, patches = plt.hist(x, num_bins, normed=1, facecolor='blue', alpha=0.5)\n",
    "y = mlab.normpdf(bins, mu, sigma)\n",
    "\n",
    "# plot\n",
    "plt.plot(bins, y, 'r--')\n",
    "plt.xlabel('Title')\n",
    "plt.ylabel('Probability')\n",
    "plt.title(r'Histogram of Random Data: $\\mu=100$, $\\sigma=15$')\n",
    "plt.show()"
   ]
  },
  {
   "cell_type": "markdown",
   "metadata": {
    "collapsed": true
   },
   "source": [
    "## 3. Exercises\n",
    "\n",
    "3.1 Refer to sections 2.1 and 2.2 of this notebook.\n",
    " - Load the wifi dataset provided in your \"module_1\" folder, to a variable called \"ds_student\". (The file name is \"wifi_u02.csv\")\n",
    " - Print the head, specifying the number of records to be returned as 3.\n",
    " - Group the dataframe by BSSID, set \"ds_student_grouped\" equal to the result, and display the top 5 records of the new dataframe. \n",
    "\n",
    "3.2 Based on the recap statements in section 2.3, can you offer any insights or observations on any of the datasets utilized in this notebook? Your answer should be two or three sentences long, and can be submitted as comment in the code cell or in markdown in the provided markdown cell.\n",
    " - To write comments in code blocks, you can start the line with #.\n",
    " - You can change code cells to markdown cells by selecting the cell and then changing the type in the Jupyter toolbar at the top of your notebook.\n",
    "\n",
    "3.3 Explore the [Matplotlib Gallery](http://matplotlib.org/gallery.html) and paste the source code to a plot or create your own plot based on one of the examples. The intention here is just to show you that there are many resources available that you can leverage; any plot will do. Add the link to the source if you use either matplotlib or another example as the basis for your input."
   ]
  },
  {
   "cell_type": "markdown",
   "metadata": {},
   "source": [
    "#### 3.1) Your Answer"
   ]
  },
  {
   "cell_type": "code",
   "execution_count": null,
   "metadata": {
    "collapsed": false
   },
   "outputs": [],
   "source": []
  },
  {
   "cell_type": "markdown",
   "metadata": {},
   "source": [
    "#### 3.2) Your Answer"
   ]
  },
  {
   "cell_type": "code",
   "execution_count": null,
   "metadata": {
    "collapsed": true
   },
   "outputs": [],
   "source": [
    "# Answer as comment in code cell"
   ]
  },
  {
   "cell_type": "markdown",
   "metadata": {},
   "source": [
    "Answer in markdown cell"
   ]
  },
  {
   "cell_type": "markdown",
   "metadata": {},
   "source": [
    "#### 3.3) Your Answer:"
   ]
  },
  {
   "cell_type": "code",
   "execution_count": null,
   "metadata": {
    "collapsed": false
   },
   "outputs": [],
   "source": []
  },
  {
   "cell_type": "markdown",
   "metadata": {},
   "source": [
    "> **Exercise complete**:\n",
    "    \n",
    "> This is a good time to \"Save and Checkpoint\"."
   ]
  },
  {
   "cell_type": "markdown",
   "metadata": {},
   "source": [
    "## 4. Answer to the groupby exercise in section 2.2"
   ]
  },
  {
   "cell_type": "markdown",
   "metadata": {
    "collapsed": true
   },
   "source": [
    "> `grouped_answer = gps.groupby(['provider', 'network_type','travelstate']).count()`\n",
    "\n",
    "> `grouped_answer`"
   ]
  },
  {
   "cell_type": "markdown",
   "metadata": {
    "collapsed": true
   },
   "source": [
    "## 5. Submit your notebook\n",
    "\n",
    "Please make sure that you:\n",
    "- Perform a final \"Save and Checkpoint\";\n",
    "- Download a copy of the notebook in \".ipynb\" format to your local machine using \"File\", \"Download as\" and \"IPython Notebook (.ipynb)\";\n",
    "- Submit a copy of this file to the online campus."
   ]
  },
  {
   "cell_type": "code",
   "execution_count": null,
   "metadata": {
    "collapsed": true
   },
   "outputs": [],
   "source": []
  }
 ],
 "metadata": {
  "kernelspec": {
   "display_name": "Python 2",
   "language": "python",
   "name": "python2"
  },
  "language_info": {
   "codemirror_mode": {
    "name": "ipython",
    "version": 2
   },
   "file_extension": ".py",
   "mimetype": "text/x-python",
   "name": "python",
   "nbconvert_exporter": "python",
   "pygments_lexer": "ipython2",
   "version": "2.7.11"
  }
 },
 "nbformat": 4,
 "nbformat_minor": 0
}
