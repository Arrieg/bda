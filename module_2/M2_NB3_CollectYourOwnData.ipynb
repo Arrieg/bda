{
 "cells": [
  {
   "cell_type": "markdown",
   "metadata": {},
   "source": [
    "<div align=\"right\">Python 2.7 Jupyter Notebook</div>"
   ]
  },
  {
   "cell_type": "markdown",
   "metadata": {},
   "source": [
    "# Collect your own data"
   ]
  },
  {
   "cell_type": "markdown",
   "metadata": {},
   "source": [
    "### Your completion of the notebook exercises will be graded based on your ability to:\n",
    "\n",
    "> **Evaluate**: Are you able to interpret the results and justify your interpretation based on the observed data?"
   ]
  },
  {
   "cell_type": "markdown",
   "metadata": {},
   "source": [
    "# Notebook introduction\n",
    "\n",
    "This notebook will introduce you to two tools that will be discussed in detail in future video content. You can complete the exercise using the sample dataset or generate your own using the instructions below if you have access to an Android device.\n",
    "\n",
    "\n",
    "To demonstrate the different lengths of time it takes to gain insights when performing an analysis, you will start to explore the provided dataset (or your own) through a manual analysis cycle, before switching to using the bandicoot framework. You will be introduced to this tool in more detail in Module 5."
   ]
  },
  {
   "cell_type": "markdown",
   "metadata": {},
   "source": [
    "> **Note**: \n",
    "\n",
    "> It is strongly recommended that you save a checkpoint after applying significant changes or completing exercises. This allows you to return the notebook to a previous state should you wish to do so. On the Jupyter menu, select \"File\", then \"Save and Checkpoint\" from the dropdown menu that appears."
   ]
  },
  {
   "cell_type": "markdown",
   "metadata": {},
   "source": [
    "#### Load libraries and set options"
   ]
  },
  {
   "cell_type": "code",
   "execution_count": null,
   "metadata": {
    "collapsed": false
   },
   "outputs": [],
   "source": [
    "import pandas as pd\n",
    "import numpy as np\n",
    "import matplotlib\n",
    "%pylab inline\n",
    "pylab.rcParams['figure.figsize'] = (10, 8)"
   ]
  },
  {
   "cell_type": "markdown",
   "metadata": {},
   "source": [
    "## 1. Collect your own data\n",
    "\n",
    "This notebook will start with an example dataset, on which you will perform similar activities to those demonstrated in Module 2 Notebook 2 Section 1. You are also welcome to share your dataset with fellow students in cases where they do not have access to android devices if you are comfortable to do so.\n",
    "\n",
    "> Building applications is a separate topic, and we will start by using another open source project from MIT to process your data in a format that can be utilized for analysis.\n",
    "\n",
    "[Bandicoot](http://bandicoot.mit.edu/) is an open-source python toolbox, which analyzes mobile phone metadata. This section will demonstrate how it can be used to collect your own data. Additional examples, as well as how Bandicoot is used to analyze mobile phone data, will be demonstrated in Module 5.\n",
    "\n",
    "***If you have an Android phone***, you can export your own metadata by following these steps:\n",
    "1. Go to http://bandicoot.mit.edu/android and install the application on your phone;\n",
    "2. Export your data, email it to yourself, and upload the CSV file to the \"data\" directory in \"module_2\" on your virtual analysis environment.\n",
    "3. You can then complete the example using your own dataset.\n",
    "\n",
    "> **Note**:\n",
    "\n",
    "> You can upload files from the directory view in your Jupyter notebook. Ensure that you select the file and then click \"upload\" again to start the upload process.\n",
    "\n",
    "> ![Uploading files screenshot](Upload_01.png \"Screenshot of uploading files\")\n",
    "\n",
    "***If you don't have access to an Android phone*** we have supplied a file, named \"metadata_sample.csv\" in the \"data\" directory under \"module_2\" which you can use for your analysis."
   ]
  },
  {
   "cell_type": "markdown",
   "metadata": {},
   "source": [
    "### 1.1 Load the data\n",
    "\n",
    "First, load the supplied csv file using additional options in the Pandas read_csv function. It is possible to set the index, and instruct the function to parse the datetime column when loading the file. You can read more about the function [here](http://pandas.pydata.org/pandas-docs/stable/generated/pandas.read_csv.html)."
   ]
  },
  {
   "cell_type": "code",
   "execution_count": null,
   "metadata": {
    "collapsed": false
   },
   "outputs": [],
   "source": [
    "# Load the dataset.\n",
    "#     You can change the filename to reflect the name of your generated dataset,\n",
    "#     if you downloaded the application in the previous step. The default filename\n",
    "#     is \"metadata.csv\".\n",
    "calls = pd.read_csv(\"data/metadata_sample.csv\",parse_dates=['datetime'],\n",
    "                    index_col=['datetime'])"
   ]
  },
  {
   "cell_type": "markdown",
   "metadata": {},
   "source": [
    "Display the head."
   ]
  },
  {
   "cell_type": "code",
   "execution_count": null,
   "metadata": {
    "collapsed": false
   },
   "outputs": [],
   "source": [
    "calls.head(5)"
   ]
  },
  {
   "cell_type": "markdown",
   "metadata": {},
   "source": [
    "### 1.2 Derived features\n",
    "Similarly to the previous notebook, you can add derived features to your dataset, as demonstrated in the example below."
   ]
  },
  {
   "cell_type": "code",
   "execution_count": null,
   "metadata": {
    "collapsed": false
   },
   "outputs": [],
   "source": [
    "# Add a column where the week is derived from the datetime column.\n",
    "calls['week'] = calls.index.map(lambda observation_timestamp: \n",
    "                                observation_timestamp.week)\n",
    "\n",
    "# Display the head of the new dataset.\n",
    "calls.head(5)"
   ]
  },
  {
   "cell_type": "markdown",
   "metadata": {},
   "source": [
    "### 1.3 Display the list of interaction types.\n",
    "This function can be very useful when working with large or dirty datasets."
   ]
  },
  {
   "cell_type": "code",
   "execution_count": null,
   "metadata": {
    "collapsed": false
   },
   "outputs": [],
   "source": [
    "calls.interaction.unique()"
   ]
  },
  {
   "cell_type": "markdown",
   "metadata": {},
   "source": [
    "### 1.4 Visualizing your data\n",
    "You can make use of the default options, as demonstrated below, in order to get a quick overview of possible data visualizations. Alternatively, you can start performing a manual analysis on the dataset as demonstrated in the previous notebook."
   ]
  },
  {
   "cell_type": "code",
   "execution_count": null,
   "metadata": {
    "collapsed": false
   },
   "outputs": [],
   "source": [
    "vis = calls.hist()"
   ]
  },
  {
   "cell_type": "markdown",
   "metadata": {},
   "source": [
    "### 1.5 Manual analysis vs using libraries\n",
    "\n",
    "The manual method is fairly tedious. In many cases you have to define what it is that you would like to visualize, and then complete the steps manually. This is where Bandicoot comes in. Using a library that has been created specifically to look at a certain type of data (in this example, mobile phone data ) can save you a significant amount of time.\n",
    "\n",
    "More content about Bandicoot will be provided in Module 5, however, the following section will give you an idea of how powerful these tools are when used correctly."
   ]
  },
  {
   "cell_type": "markdown",
   "metadata": {},
   "source": [
    "#### 1.5.1 Load the input file"
   ]
  },
  {
   "cell_type": "code",
   "execution_count": null,
   "metadata": {
    "collapsed": false
   },
   "outputs": [],
   "source": [
    "import os\n",
    "import bandicoot as bc\n",
    "\n",
    "U = bc.read_csv(\"data/metadata_sample\", \"\")"
   ]
  },
  {
   "cell_type": "markdown",
   "metadata": {},
   "source": [
    "#### 1.5.2 Visualization using Bandicoot\n",
    "\n",
    "Export and serve an interactive visualization using:\n",
    "\n",
    "```python\n",
    "bc.visualization.run(U)\n",
    "```\n",
    "\n",
    "or export to the disk using:\n",
    "\n",
    "```python\n",
    "bc.visualization.export(U, 'my-viz-path')\n",
    "```"
   ]
  },
  {
   "cell_type": "markdown",
   "metadata": {},
   "source": [
    "#### 1.5.3 Start your visualization server\n",
    "This notebook starts a visualization server on your virtual analysis server on a new port. We have supplied a screenshot of the interactive interface for students who are not able to access this port. This is not required at the stage and students who are unable to access the link should not be concerned."
   ]
  },
  {
   "cell_type": "code",
   "execution_count": null,
   "metadata": {
    "collapsed": false
   },
   "outputs": [],
   "source": [
    "bc.visualization.run(U)"
   ]
  },
  {
   "cell_type": "markdown",
   "metadata": {},
   "source": [
    "![Bandicoot visualization](bc_visualization_screenshot.png \"Screenshot of Bandicoot visualization.\")"
   ]
  },
  {
   "cell_type": "markdown",
   "metadata": {},
   "source": [
    "As mentioned in an earlier notebook, \"In[*]\" means that the code is still running. A link will appear. Select this link to open a new tab with your visualization.\n",
    "\n",
    "> **Note**:\n",
    "\n",
    "> It is extremely important that you shut down the previous cell as it will continue to run in the background until you do so. Select the cell and click the “Stop” button to interrupt the kernel. Alternatively, you can select \"File\", \"Close and Halt\" from the Jupyter menu to stop the entire notebook. Before you go this route, ensure you save any changes you have made. Should you select the interrupt method, a message will appear indicating that the web server is shutting down.\n",
    "\n",
    "> Please note that in order to restart the web server, you will need to restart the kernel."
   ]
  },
  {
   "cell_type": "markdown",
   "metadata": {},
   "source": [
    "#### Exercise 1:\n",
    "In 1.5.1 the function automatically removes calls with a zero duration. Can you think of a use case where the zero length calls would have a specific meaning and you would be interested in retaining these records?"
   ]
  },
  {
   "cell_type": "markdown",
   "metadata": {},
   "source": [
    "Your answer here."
   ]
  },
  {
   "cell_type": "markdown",
   "metadata": {},
   "source": [
    "#### Wrap-up\n",
    "In Module 5 we will start using advanced features and explore [Bandicoot](http://bandicoot.mit.edu/) in more detail."
   ]
  },
  {
   "cell_type": "markdown",
   "metadata": {},
   "source": [
    "# 2. Building Applications using Funf\n",
    "\n",
    "[Funf](https://github.com/OpenSensing/funf-core-android) was introduced to you in Video 4 of this module. You are welcome to review the code on GitHub, as well as download and create your own application. Should you wish to do so, it is a good idea to start [here](https://github.com/funf-org/funf-core-android/wiki/WifiScannerTutorial). Funf is a fork of the popular Funf open sensing framework. You can visit the original project's [wiki](https://github.com/funf-org/funf-core-android/wiki) for more detail about architecture design, documentation and scripts for processing collected data.\n",
    "\n",
    "Students interested in building their own applications can review the links and obtain the source from the supplied links. The documentation provides instructions run and modify the source. You can create an app to collect your own data, but will require access to additional components:\n",
    " - Android SDK\n",
    " - Application on top that points to the library: https://github.com/OpenSensing/android-opensensin"
   ]
  },
  {
   "cell_type": "markdown",
   "metadata": {},
   "source": [
    "# 3. Submit your notebook\n",
    "\n",
    "Please ensure that you:\n",
    "- Perform a final \"Save and Checkpoint\";\n",
    "- Download a copy of the notebook in \".ipynb\" format to your local machine using \"File\", \"Download as\", and \"IPython Notebook (.ipynb); and\n",
    "- Submit a copy of this file to the online campus."
   ]
  },
  {
   "cell_type": "code",
   "execution_count": null,
   "metadata": {
    "collapsed": true
   },
   "outputs": [],
   "source": []
  }
 ],
 "metadata": {
  "kernelspec": {
   "display_name": "Python 2",
   "language": "python",
   "name": "python2"
  },
  "language_info": {
   "codemirror_mode": {
    "name": "ipython",
    "version": 2
   },
   "file_extension": ".py",
   "mimetype": "text/x-python",
   "name": "python",
   "nbconvert_exporter": "python",
   "pygments_lexer": "ipython2",
   "version": "2.7.11"
  }
 },
 "nbformat": 4,
 "nbformat_minor": 0
}
